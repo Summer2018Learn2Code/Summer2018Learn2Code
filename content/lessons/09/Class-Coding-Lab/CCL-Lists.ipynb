{
 "cells": [
  {
   "cell_type": "markdown",
   "metadata": {},
   "source": [
    "# In-Class Coding Lab: Lists\n",
    "\n",
    "The goals of this lab are to help you understand:\n",
    "\n",
    " - List indexing and slicing\n",
    " - List methods such as insert, append, find, delete\n",
    " - How to iterate over lists with loops\n",
    " \n",
    "## Python Lists work like Real-Life Lists\n",
    " \n",
    "In real life, we make lists all the time. To-Do lists. Shopping lists. Reading lists.  These lists are collections of items, for example here's my shopping list:\n",
    " \n",
    " ```\n",
    " Milk, Eggs, Bread, Beer\n",
    " ```\n",
    "\n",
    "There are 4 items in this list.\n",
    "\n",
    "Likewise, we can make a similar list in Python, and count the number of items in the list using the `len()` function:"
   ]
  },
  {
   "cell_type": "code",
   "execution_count": 1,
   "metadata": {},
   "outputs": [
    {
     "name": "stdout",
     "output_type": "stream",
     "text": [
      "List: ['Milk', 'Eggs', 'Bread', 'Beer'] has 4 items\n"
     ]
    }
   ],
   "source": [
    "shopping_list = [ 'Milk', 'Eggs', 'Bread', 'Beer']\n",
    "item_count = len(shopping_list)\n",
    "print(\"List: %s has %d items\" % (shopping_list, item_count))"
   ]
  },
  {
   "cell_type": "markdown",
   "metadata": {},
   "source": [
    "## Enumerating Your List Items\n",
    "\n",
    "In real-life, we *enumerate* lists all the time. We go through the items on our list one at a time and make a decision, for example: \"Did I add that to my shopping cart yet?\"\n",
    "\n",
    "In Python we go through items in our lists with the `for` loop. We use `for` because the number of items in pre-determined and thus a **definite** loop is the appropriate choice. \n",
    "\n",
    "Here's an example:"
   ]
  },
  {
   "cell_type": "code",
   "execution_count": 2,
   "metadata": {},
   "outputs": [
    {
     "name": "stdout",
     "output_type": "stream",
     "text": [
      "I need to buy some Milk \n",
      "I need to buy some Eggs \n",
      "I need to buy some Bread \n",
      "I need to buy some Beer \n"
     ]
    }
   ],
   "source": [
    "for item in shopping_list:\n",
    "    print(\"I need to buy some %s \" % (item))"
   ]
  },
  {
   "cell_type": "markdown",
   "metadata": {},
   "source": [
    "## Now You Try It!\n",
    "\n",
    "Write code in the space below to print each stock on its own line."
   ]
  },
  {
   "cell_type": "code",
   "execution_count": 1,
   "metadata": {},
   "outputs": [
    {
     "name": "stdout",
     "output_type": "stream",
     "text": [
      "IBM\n",
      "AAPL\n",
      "GOOG\n",
      "MSFT\n",
      "TWTR\n",
      "FB\n"
     ]
    }
   ],
   "source": [
    "stocks = [ 'IBM', 'AAPL', 'GOOG', 'MSFT', 'TWTR', 'FB']\n",
    "#TODO: Write code here\n",
    "for stock in stocks:\n",
    "    print (stock)"
   ]
  },
  {
   "cell_type": "markdown",
   "metadata": {},
   "source": [
    "## Indexing Lists\n",
    "\n",
    "Sometimes we refer to our items by their place in the list. For example \"Milk is the first item on the list\" or \"Beer is the last item on the list.\"\n",
    "\n",
    "We can also do this in Python, and it is called *indexing* the list. \n",
    "\n",
    "**IMPORTANT** The first item in a Python lists starts at index **0**."
   ]
  },
  {
   "cell_type": "code",
   "execution_count": null,
   "metadata": {},
   "outputs": [],
   "source": [
    "print(\"The first item in the list is:\", shopping_list[0]) \n",
    "print(\"The last item in the list is:\", shopping_list[3])   \n",
    "print(\"This is also the last item in the list:\", shopping_list[-1])  \n",
    "print(\"This is the second to last item in the list:\", shopping_list[-2])\n"
   ]
  },
  {
   "cell_type": "markdown",
   "metadata": {},
   "source": [
    "## For Loop with Index\n",
    "\n",
    "You can also loop through your Python list using an index. In this case we use the `range()` function to determine how many times we should loop:"
   ]
  },
  {
   "cell_type": "code",
   "execution_count": null,
   "metadata": {},
   "outputs": [],
   "source": [
    "for i in range(len(shopping_list)):\n",
    "    print(\"I need to buy some %s \" % (shopping_list[i]))"
   ]
  },
  {
   "cell_type": "markdown",
   "metadata": {},
   "source": [
    "## Now You Try It!\n",
    "\n",
    "Write code to print the 2nd and 4th stocks in the list variable `stocks`. For example:\n",
    "\n",
    "`AAPL MSFT`"
   ]
  },
  {
   "cell_type": "code",
   "execution_count": 2,
   "metadata": {},
   "outputs": [
    {
     "name": "stdout",
     "output_type": "stream",
     "text": [
      "AAPL MSFT\n"
     ]
    }
   ],
   "source": [
    "#TODO: Write code here\n",
    "\n",
    "stocks = [ 'IBM', 'AAPL', 'GOOG', 'MSFT', 'TWTR', 'FB']\n",
    "\n",
    "print(stocks[1], stocks[3])"
   ]
  },
  {
   "cell_type": "markdown",
   "metadata": {},
   "source": [
    "## Lists are Mutable\n",
    "\n",
    "Unlike strings, lists are mutable. This means we can change a value in the list.\n",
    "\n",
    "For example, I want `'Craft Beer'` not just `'Beer'`:"
   ]
  },
  {
   "cell_type": "code",
   "execution_count": null,
   "metadata": {},
   "outputs": [],
   "source": [
    "print(shopping_list)\n",
    "shopping_list[-1] = 'Craft Beer'\n",
    "print(shopping_list)"
   ]
  },
  {
   "cell_type": "markdown",
   "metadata": {},
   "source": [
    "## List Methods\n",
    "\n",
    "In your readings and class lecture, you encountered some list methods. These allow us to maniupulate the list by adding or removing items."
   ]
  },
  {
   "cell_type": "code",
   "execution_count": null,
   "metadata": {},
   "outputs": [],
   "source": [
    "print(\"Shopping List: %s\" %(shopping_list))\n",
    "\n",
    "print(\"Adding 'Cheese' to the end of the list...\")\n",
    "shopping_list.append('Cheese')  #add to end of list\n",
    "print(\"Shopping List: %s\" %(shopping_list))\n",
    "\n",
    "print(\"Adding 'Cereal' to position 0  in the list...\")\n",
    "shopping_list.insert(0,'Cereal') # add to the beginning of the list (position 0)\n",
    "print(\"Shopping List: %s\" %(shopping_list))\n",
    "\n",
    "print(\"Removing 'Cheese' from the list...\")\n",
    "shopping_list.remove('Cheese')  # remove 'Cheese' from the list\n",
    "print(\"Shopping List: %s\" %(shopping_list))\n",
    "\n",
    "print(\"Removing item from position 0 in the list...\")\n",
    "del shopping_list[0]   # remove item at position 0\n",
    "print(\"Shopping List: %s\" %(shopping_list))\n"
   ]
  },
  {
   "cell_type": "markdown",
   "metadata": {},
   "source": [
    "## Now You Try It!\n",
    "\n",
    "Write a program to remove the following stocks: `IBM` and `TWTR`\n",
    "\n",
    "Then add this stock to the end `NFLX` and this stock to the beginning `TSLA`\n",
    "\n",
    "Print your list when you are done. It should look like this:\n",
    "\n",
    "`['TSLA', 'AAPL', 'GOOG', 'MSFT', 'FB', 'NFLX']`\n"
   ]
  },
  {
   "cell_type": "code",
   "execution_count": 3,
   "metadata": {},
   "outputs": [
    {
     "name": "stdout",
     "output_type": "stream",
     "text": [
      "Stocks Before: ['IBM', 'AAPL', 'GOOG', 'MSFT', 'TWTR', 'FB']\n",
      "Stocks After: ['TSLA', 'AAPL', 'GOOG', 'MSFT', 'FB', 'NFLX']\n"
     ]
    }
   ],
   "source": [
    "# TODO: Write Code here\n",
    "stocks = [ 'IBM', 'AAPL', 'GOOG', 'MSFT', 'TWTR', 'FB']\n",
    "print(\"Stocks Before: %s\" % stocks)\n",
    "stocks.remove('IBM')\n",
    "stocks.remove('TWTR')\n",
    "stocks.append('NFLX')\n",
    "stocks.insert(0, 'TSLA')\n",
    "print(\"Stocks After: %s\" % stocks)"
   ]
  },
  {
   "cell_type": "markdown",
   "metadata": {},
   "source": [
    "## Sorting\n",
    "\n",
    "Since Lists are mutable. You can use the `sort()` method to re-arrange the items in the list alphabetically (or numerically if it's a list of numbers)"
   ]
  },
  {
   "cell_type": "code",
   "execution_count": null,
   "metadata": {},
   "outputs": [],
   "source": [
    "print(\"Before Sort:\", shopping_list)\n",
    "shopping_list.sort() \n",
    "print(\"After Sort:\", shopping_list)"
   ]
  },
  {
   "cell_type": "markdown",
   "metadata": {},
   "source": [
    "# Putting it all together\n",
    "\n",
    "Winning Lotto numbers. When the lotto numbers are drawn, they are in any order, when they are presented they're allways sorted. Let's write a program to input 5 numbers then output them sorted\n",
    "\n",
    "```\n",
    "1. for i in range(5)\n",
    "2.    input a number\n",
    "3.    append the number you input to the lotto_numbers list\n",
    "4. sort the lotto_numbers list\n",
    "5. print the lotto_numbers list like this: \n",
    "   'today's winning numbers are [1, 5, 17, 34, 56]'\n",
    "```"
   ]
  },
  {
   "cell_type": "code",
   "execution_count": 1,
   "metadata": {},
   "outputs": [
    {
     "name": "stdout",
     "output_type": "stream",
     "text": [
      "Enter a winning number: -10\n",
      "You entered a negative number. Try again!\n",
      "Enter a winning number: 1.2\n",
      "You did not enter a whole number. Try again!\n",
      "Enter a winning number: 10\n",
      "Enter a winning number: three\n",
      "You did not enter a whole number. Try again!\n",
      "Enter a winning number: 10\n",
      "Enter a winning number: 23\n",
      "Enter a winning number: 45\n",
      "Enter a winning number: 23\n",
      "Today's winning numbers are [10, 10, 23, 23, 45]\n"
     ]
    }
   ],
   "source": [
    "## TODO: Write program here:\n",
    "\n",
    "lotto_numbers = []  # start with an empty list\n",
    "picks =0\n",
    "\n",
    "while True: # use to address entry errors\n",
    "    try:\n",
    "        if picks in range(5):\n",
    "            number = int(input(\"Enter a winning number: \")) #convert to int to sort\n",
    "            if number >=0:\n",
    "                lotto_numbers.append(number)\n",
    "                picks += 1\n",
    "            else:\n",
    "                print(\"You entered a negative number. Try again!\")\n",
    "                continue\n",
    "        else:\n",
    "            break\n",
    "    except ValueError:\n",
    "        print(\"You did not enter a whole number. Try again!\")\n",
    "        continue\n",
    "        \n",
    "lotto_numbers.sort()\n",
    "print(\"Today's winning numbers are %s\" % lotto_numbers)"
   ]
  },
  {
   "cell_type": "code",
   "execution_count": 1,
   "metadata": {},
   "outputs": [
    {
     "name": "stdout",
     "output_type": "stream",
     "text": [
      "Enter a number here:2\n",
      "Adding 'number' to the end of the list...\n"
     ]
    },
    {
     "ename": "TypeError",
     "evalue": "must use keyword argument for key function",
     "output_type": "error",
     "traceback": [
      "\u001b[1;31m---------------------------------------------------------------------------\u001b[0m",
      "\u001b[1;31mTypeError\u001b[0m                                 Traceback (most recent call last)",
      "\u001b[1;32m<ipython-input-1-f5747ca3871f>\u001b[0m in \u001b[0;36m<module>\u001b[1;34m()\u001b[0m\n\u001b[0;32m      5\u001b[0m         \u001b[0mprint\u001b[0m\u001b[1;33m(\u001b[0m\u001b[1;34m\"Adding 'number' to the end of the list...\"\u001b[0m\u001b[1;33m)\u001b[0m\u001b[1;33m\u001b[0m\u001b[0m\n\u001b[0;32m      6\u001b[0m         \u001b[0mlotto_numbers\u001b[0m\u001b[1;33m.\u001b[0m\u001b[0mappend\u001b[0m\u001b[1;33m(\u001b[0m\u001b[0mnumber\u001b[0m\u001b[1;33m)\u001b[0m\u001b[1;33m\u001b[0m\u001b[0m\n\u001b[1;32m----> 7\u001b[1;33m         \u001b[0mlotto_numbers\u001b[0m\u001b[1;33m.\u001b[0m\u001b[0msort\u001b[0m\u001b[1;33m(\u001b[0m\u001b[1;34m''\u001b[0m\u001b[1;33m)\u001b[0m\u001b[1;33m\u001b[0m\u001b[0m\n\u001b[0m\u001b[0;32m      8\u001b[0m         \u001b[0mprint\u001b[0m\u001b[1;33m(\u001b[0m\u001b[1;34m\"Today's winning numbers are: %s\"\u001b[0m \u001b[1;33m%\u001b[0m\u001b[1;33m(\u001b[0m\u001b[0mlotto_numbers\u001b[0m\u001b[1;33m[\u001b[0m\u001b[0mi\u001b[0m\u001b[1;33m]\u001b[0m\u001b[1;33m)\u001b[0m\u001b[1;33m)\u001b[0m\u001b[1;33m\u001b[0m\u001b[0m\n",
      "\u001b[1;31mTypeError\u001b[0m: must use keyword argument for key function"
     ]
    }
   ],
   "source": [
    "lotto_numbers = [3,2,1,4,6,5]  # start with an empty list\n",
    "while True:\n",
    "    for i in range(5):\n",
    "        number = input(\"Enter a number here:\")\n",
    "        print(\"Adding 'number' to the end of the list...\")\n",
    "        lotto_numbers.append(number)  \n",
    "        lotto_numbers.sort('')\n",
    "        print(\"Today's winning numbers are: %s\" %(lotto_numbers[i]))"
   ]
  },
  {
   "cell_type": "code",
   "execution_count": 2,
   "metadata": {},
   "outputs": [
    {
     "name": "stdout",
     "output_type": "stream",
     "text": [
      "Input a number:2\n",
      "Input a number:4\n",
      "Input a number:1\n",
      "Input a number:3\n",
      "Input a number:7\n",
      "Today's winning lotto numbers are [1, 2, 3, 4, 7]\n"
     ]
    }
   ],
   "source": [
    "lotto_numbers = []  # start with an empty list\n",
    "try:\n",
    "    for i in range(5):\n",
    "        number=int(input(\"Input a number:\"))\n",
    "        lotto_numbers.append(number)\n",
    "        lotto_numbers.sort()\n",
    "    print(\"Today's winning lotto numbers are\", lotto_numbers)\n",
    "except ValueError:\n",
    "    print('Non-numeric data enetered.')"
   ]
  },
  {
   "cell_type": "code",
   "execution_count": 5,
   "metadata": {},
   "outputs": [
    {
     "name": "stdout",
     "output_type": "stream",
     "text": [
      "Input a number: 3\n",
      "Input a number: 8\n",
      "Input a number: 3\n",
      "Input a number: 1\n",
      "Input a number: 6\n",
      "Today's winning numbers are [1, 3, 3, 6, 8]\n"
     ]
    }
   ],
   "source": [
    "lotto_numbers = []  # start with an empty list\n",
    "\n",
    "for i in range(5):\n",
    "    number = int(input(\"Input a number: \"))\n",
    "    lotto_numbers.append (number)\n",
    "lotto_numbers.sort()\n",
    "print(\"Today's winning numbers are %s\" % lotto_numbers)"
   ]
  },
  {
   "cell_type": "code",
   "execution_count": null,
   "metadata": {},
   "outputs": [],
   "source": []
  }
 ],
 "metadata": {
  "anaconda-cloud": {},
  "kernelspec": {
   "display_name": "Python 3",
   "language": "python",
   "name": "python3"
  },
  "language_info": {
   "codemirror_mode": {
    "name": "ipython",
    "version": 3
   },
   "file_extension": ".py",
   "mimetype": "text/x-python",
   "name": "python",
   "nbconvert_exporter": "python",
   "pygments_lexer": "ipython3",
   "version": "3.6.3"
  }
 },
 "nbformat": 4,
 "nbformat_minor": 1
}
