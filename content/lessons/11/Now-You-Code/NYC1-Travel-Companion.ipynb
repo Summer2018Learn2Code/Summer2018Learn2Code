{
 "cells": [
  {
   "cell_type": "markdown",
   "metadata": {},
   "source": [
    "# Now You Code 1: Travel Companion\n",
    "\n",
    "You're heading to Europe! Write a program which when you input an amount of money in USD will convert that to GBP (British Pounts) and EUR (Euro Dollars).\n",
    "\n",
    "The program should use the API: http://fixer.io/  to calculate the exchange rates. You must read and review the API before beginning.\n",
    "\n",
    "Example Run (Based on the exchange rates from 2017-03-06:\n",
    "\n",
    "```\n",
    "Enter the amount in USD you wish to exchange: 100\n",
    "100.00 in USD is 94.41 in EUR\n",
    "100.00 in USD is 81.48 in GBP\n",
    "```\n",
    "\n",
    "\n",
    "We will once again employ problem simplification. First you should write a function to get the exchange rates from fixer.io, then call that function in your main program."
   ]
  },
  {
   "cell_type": "markdown",
   "metadata": {
    "collapsed": true
   },
   "source": [
    "## Step 1: Problem Analysis `get_exchange_rates`\n",
    "\n",
    "Inputs: None\n",
    "\n",
    "Outputs: a dictionary of current exchange rates\n",
    "\n",
    "Algorithm (Steps in Program):\n",
    "\n",
    "\n"
   ]
  },
  {
   "cell_type": "code",
   "execution_count": null,
   "metadata": {},
   "outputs": [],
   "source": [
    "# Step 2: write code here for the user-defined function get_exchange_rates\n",
    "\n",
    "import requests \n",
    "\n",
    "def get_exchange_rates():\n",
    "    params = { 'base' : 'USD' }\n",
    "    url = 'http://api.fixer.io/latest'\n",
    "    response = requests.get(url, params)\n",
    "    if response.ok:\n",
    "        rates = response.json()\n",
    "        return rates\n",
    "    else:\n",
    "        return \"Unable to connect!\"\n"
   ]
  },
  {
   "cell_type": "code",
   "execution_count": null,
   "metadata": {},
   "outputs": [],
   "source": [
    "# step 3: test the function\n",
    "get_exchange_rates() # should output a dictionary of exchange rates"
   ]
  },
  {
   "cell_type": "markdown",
   "metadata": {},
   "source": [
    "## Step 4: Problem Analysis for entire program\n",
    "\n",
    "Inputs: \n",
    "\n",
    "Outputs:\n",
    "\n",
    "Algorithm (Steps in Program):\n",
    "\n",
    "\n"
   ]
  },
  {
   "cell_type": "code",
   "execution_count": null,
   "metadata": {},
   "outputs": [],
   "source": [
    "# step 5: write main program\n",
    "\n",
    "def get_exchange_rates():\n",
    "    params = { 'base' : 'USD' }\n",
    "    url = 'http://api.fixer.io/latest'\n",
    "    response = requests.get(url, params)\n",
    "    if response.ok:\n",
    "        rates = response.json()\n",
    "        return rates\n",
    "    else:\n",
    "        return \"Unable to connect!\"\n",
    "\n",
    "try:\n",
    "    usd = float(input(\"Enter the amount in USD you wish to exchange: \"))\n",
    "    rates = get_exchange_rates()\n",
    "    eur = usd * rates['rates']['EUR']\n",
    "    gbp = usd * rates['rates']['GBP']\n",
    "    print(\"%.2f in USD is %.2f in EUR\" % (usd,eur))\n",
    "    print(\"%.2f in USD is %.2f in GBP\" % (usd,gbp))\n",
    "except:\n",
    "    print(\"there was an error connecting to the service!\")"
   ]
  },
  {
   "cell_type": "markdown",
   "metadata": {
    "collapsed": true
   },
   "source": [
    "## Step 6: Questions\n",
    "\n",
    "1. What happens when you enter `mike` as input? Which error to you get? Fix the program in step 4 so that it handles this error.\n",
    "2. Put your laptop in Airplane mode (disable the wifi) and then run the program. What happens? Fix the program in step 4 so that it handles this error.\n"
   ]
  },
  {
   "cell_type": "code",
   "execution_count": null,
   "metadata": {},
   "outputs": [],
   "source": [
    "import requests \n",
    "\n",
    "params = { 'base' : 'USD' }\n",
    "url = 'http://api.fixer.io/latest'\n",
    "response = requests.get(url, params)\n"
   ]
  },
  {
   "cell_type": "markdown",
   "metadata": {},
   "source": [
    "## Reminder of Evaluation Criteria\n",
    "\n",
    "1. What the problem attempted (analysis, code, and answered questions) ?\n",
    "2. What the problem analysis thought out? (does the program match the plan?)\n",
    "3. Does the code execute without syntax error?\n",
    "4. Does the code solve the intended problem?\n",
    "5. Is the code well written? (easy to understand, modular, and self-documenting, handles errors)\n"
   ]
  },
  {
   "cell_type": "code",
   "execution_count": 6,
   "metadata": {},
   "outputs": [],
   "source": [
    "import requests, json\n",
    "\n",
    "def get_exchange_rates(): \n",
    "    url = \"http://api.fixer.io/latest\"\n",
    "    params = {'base': 'USD'}\n",
    "    response = requests.get(url, params=params)\n",
    "    rates = response.json ()\n",
    "    return rates"
   ]
  },
  {
   "cell_type": "code",
   "execution_count": 5,
   "metadata": {},
   "outputs": [
    {
     "data": {
      "text/plain": [
       "{'__deprecation_message__': 'This API endpoint is deprecated and will stop working on June 1st, 2018. For more information please visit: https://github.com/fixerAPI/fixer#readme',\n",
       " 'base': 'USD',\n",
       " 'date': '2018-04-13',\n",
       " 'rates': {'AUD': 1.2829,\n",
       "  'BGN': 1.5879,\n",
       "  'BRL': 3.4082,\n",
       "  'CAD': 1.257,\n",
       "  'CHF': 0.96241,\n",
       "  'CNY': 6.281,\n",
       "  'CZK': 20.546,\n",
       "  'DKK': 6.0459,\n",
       "  'EUR': 0.81189,\n",
       "  'GBP': 0.70147,\n",
       "  'HKD': 7.8499,\n",
       "  'HRK': 6.0214,\n",
       "  'HUF': 252.6,\n",
       "  'IDR': 13753.0,\n",
       "  'ILS': 3.5168,\n",
       "  'INR': 65.207,\n",
       "  'ISK': 98.725,\n",
       "  'JPY': 107.69,\n",
       "  'KRW': 1068.7,\n",
       "  'MXN': 18.118,\n",
       "  'MYR': 3.8738,\n",
       "  'NOK': 7.7651,\n",
       "  'NZD': 1.3561,\n",
       "  'PHP': 51.936,\n",
       "  'PLN': 3.3907,\n",
       "  'RON': 3.7836,\n",
       "  'RUB': 61.881,\n",
       "  'SEK': 8.4274,\n",
       "  'SGD': 1.3118,\n",
       "  'THB': 31.15,\n",
       "  'TRY': 4.0928,\n",
       "  'ZAR': 12.053}}"
      ]
     },
     "execution_count": 5,
     "metadata": {},
     "output_type": "execute_result"
    }
   ],
   "source": [
    "get_exchange_rates()\n"
   ]
  },
  {
   "cell_type": "code",
   "execution_count": null,
   "metadata": {},
   "outputs": [],
   "source": []
  }
 ],
 "metadata": {
  "anaconda-cloud": {},
  "kernelspec": {
   "display_name": "Python 3",
   "language": "python",
   "name": "python3"
  },
  "language_info": {
   "codemirror_mode": {
    "name": "ipython",
    "version": 3
   },
   "file_extension": ".py",
   "mimetype": "text/x-python",
   "name": "python",
   "nbconvert_exporter": "python",
   "pygments_lexer": "ipython3",
   "version": "3.6.3"
  }
 },
 "nbformat": 4,
 "nbformat_minor": 1
}
