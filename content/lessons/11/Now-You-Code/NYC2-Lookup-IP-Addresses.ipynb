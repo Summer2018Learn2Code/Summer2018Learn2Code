{
 "cells": [
  {
   "cell_type": "markdown",
   "metadata": {},
   "source": [
    "# Now You Code 2: IP Addresses\n",
    "\n",
    "For this Now You Code, you will complete a very common task in data analytics: converting an IP address https://en.wikipedia.org/wiki/IP_address to an approximate location.\n",
    "\n",
    "Write a program to read the IP Addresses from the File `NYC2-IP-Addresses.txt` and for each IP address determine the approximate location (City and State) for the origin of that IP Address. This is usually done as part of analytics to determine the origins of website visitors. \n",
    "\n",
    "To perform the lookups, use the http://freegeoip.net API. **You'll have to read through the API documentation first and understand how to use the API before you write the program. **\n",
    "\n",
    "Once again, problem simplification is key here.  Just get the  IP lookup working, writing it as a function, and then try to read from the file and perform the lookups for each IP address in the file.\n",
    "\n",
    "Here's a sample of a geoip lookup of the IP Address `'128.230.182.217'`\n",
    "\n",
    "```\n",
    "{'city': 'Syracuse',\n",
    " 'country_code': 'US',\n",
    " 'country_name': 'United States',\n",
    " 'ip': '128.230.182.217',\n",
    " 'latitude': 43.0377,\n",
    " 'longitude': -76.1396,\n",
    " 'metro_code': 555,\n",
    " 'region_code': 'NY',\n",
    " 'region_name': 'New York',\n",
    " 'time_zone': 'America/New_York',\n",
    " 'zip_code': '13244'}\n",
    "```\n",
    "\n",
    "In this example the city and state would be `Syracuse, NY`\n",
    "\n",
    "\n",
    "Final Program Output will read all the addresses from the file.:\n",
    "\n",
    "```\n",
    "IP: 128.122.140.238 LOCATION: New York,NY\n",
    "IP: 23.112.232.160 LOCATION: Green Bay,WI\n",
    "IP: 23.192.215.44 LOCATION: Cambridge,MA\n",
    "IP: 23.224.160.4 LOCATION: Cheyenne,WY\n",
    "IP: 23.230.12.5 LOCATION: San Jose,CA\n",
    "IP: 23.80.125.101 LOCATION: Phoenix,AZ\n",
    "IP: 23.83.132.200 LOCATION: Phoenix,AZ\n",
    "IP: 23.88.15.5 LOCATION: Los Angeles,CA\n",
    "IP: 24.0.14.56 LOCATION: Iselin,NJ\n",
    "IP: 24.1.25.140 LOCATION: Chicago,IL\n",
    "IP: 24.11.125.10 LOCATION: Orem,UT\n",
    "IP: 24.38.114.105 LOCATION: Matawan,NJ\n",
    "IP: 24.38.224.161 LOCATION: Darien,CT\n",
    "IP: 56.216.127.219 LOCATION: Raleigh,NC\n",
    "IP: 68.199.40.156 LOCATION: Elmont,NY\n",
    "IP: 74.111.18.59 LOCATION: Auburn,NY\n",
    "IP: 74.111.6.173 LOCATION: Liverpool,NY\n",
    "IP: 98.29.25.44 LOCATION: Dayton,OH\n",
    "```\n"
   ]
  },
  {
   "cell_type": "markdown",
   "metadata": {
    "collapsed": true
   },
   "source": [
    "## Step 1: Problem Analysis for `geoiplookup` function\n",
    "\n",
    "Inputs: IP address or domain name: for example `8.8.8.8`  or `'www.syracuse.edu`\n",
    "\n",
    "Outputs: Dictionary of Geographic information for that IP Address\n",
    "\n",
    "Algorithm (Steps in Program):\n",
    "\n",
    "```\n",
    "todo write algorithm here\n",
    "```\n"
   ]
  },
  {
   "cell_type": "code",
   "execution_count": 1,
   "metadata": {},
   "outputs": [
    {
     "name": "stdout",
     "output_type": "stream",
     "text": [
      "Enter the IP Address(format XXX.XXX.XXX.XXX): 128.230.1.1\n",
      "{'__deprecation_message__': 'This API endpoint is deprecated and will stop working on July 1st, 2018. For more information please visit: https://github.com/apilayer/freegeoip#readme', 'ip': '128.230.1.1', 'country_code': 'US', 'country_name': 'United States', 'region_code': 'NY', 'region_name': 'New York', 'city': 'Syracuse', 'zip_code': '13244', 'time_zone': 'America/New_York', 'latitude': 43.0377, 'longitude': -76.1396, 'metro_code': 555}\n"
     ]
    }
   ],
   "source": [
    "# Step 2: write the user defined function `geoiplookup`\n",
    "import requests\n",
    "import json\n",
    "\n",
    "def geoiplookup(IP):\n",
    "    url = 'http://freegeoip.net/json/'\n",
    "    response = requests.get(url + IP)\n",
    "    location = response.json()\n",
    "    return location\n",
    "\n",
    "IP = input(\"Enter the IP Address(format XXX.XXX.XXX.XXX): \")\n",
    "location = geoiplookup(IP)\n",
    "print(location)\n"
   ]
  },
  {
   "cell_type": "code",
   "execution_count": 2,
   "metadata": {},
   "outputs": [
    {
     "name": "stdout",
     "output_type": "stream",
     "text": [
      "WHEN ip='128.230.12.5' We EXPECT geoiplookup(ip) to return city Syracuse ACTUAL: Syracuse\n",
      "WHEN ip='www.syracuse.edu' We EXPECT geoiplookup(ip) to return city Syracuse ACTUAL: Syracuse\n"
     ]
    }
   ],
   "source": [
    "# Step 2.b Tests for geoip lookup help ensure you wrote the function correctly!\n",
    "print(\"WHEN ip='128.230.12.5' We EXPECT geoiplookup(ip) to return city Syracuse ACTUAL:\", geoiplookup('128.230.12.5')['city'])\n",
    "print(\"WHEN ip='www.syracuse.edu' We EXPECT geoiplookup(ip) to return city Syracuse ACTUAL:\", geoiplookup('www.syracuse.edu')['city'])\n"
   ]
  },
  {
   "cell_type": "markdown",
   "metadata": {},
   "source": [
    "## Step 3: Problem Analysis for entire program\n",
    "\n",
    "Inputs: \n",
    "\n",
    "* Data filename\n",
    "* URL for API lookup function\n",
    "\n",
    "\n",
    "Outputs: \n",
    "\n",
    "* List of IP addresses and location (city and state)\n",
    "\n",
    "\n",
    "Algorithm (Steps in Program):\n",
    "\n",
    "* import requests and json\n",
    "* define API geoiplookup function with argument ip_list \n",
    "\n",
    "    * set url variable to be the web API with json formatting\n",
    "    * set location_list variable to empty list\n",
    "    * for loop to check for IPs in the argument list\n",
    "        * response is the requests.get of the URL + the IP\n",
    "        * location = the json version of the response\n",
    "        * append the location to the location_list list\n",
    "    * return the list of locations\n",
    "    \n",
    "* define the function to load a list from a given file\n",
    "\n",
    "    * open file in read as ip_list removing the \"\\n\" from each line\n",
    "    * return the ip_list\n",
    "\n",
    "* try to allow excepts later\n",
    "    * set the filename variable \n",
    "    * set the ip_list variable \n",
    "    * if statment for ip_list being an empty list\n",
    "        * print that the file had no IPs in it\n",
    "    * else statement\n",
    "        * assign variable location_list to the call geoiplookup function with argument ip_list\n",
    "        * for statement to start a loop of location in location_list\n",
    "            * if the location city or state is blank\n",
    "                * print IP address location was not provided\n",
    "            * else\n",
    "                * print location's (dictionary) ip, city and region_code keys\n",
    "\n",
    "* except JSONDecoderErrors to address if the reuslting data can't be convereted to json\n",
    "* except HTTPErrors if there are any other requests results other than 200\n",
    "* except RequestExceptions if there was an issue with the program connecting to the URL"
   ]
  },
  {
   "cell_type": "code",
   "execution_count": 3,
   "metadata": {},
   "outputs": [
    {
     "name": "stdout",
     "output_type": "stream",
     "text": [
      "IP: 128.122.140.238 Location: New York, NY\n",
      "IP: 23.112.232.160 Location: Green Bay, WI\n",
      "IP: 23.192.215.44 Location: Cambridge, MA\n",
      "IP: 23.224.160.4 Location: Los Angeles, CA\n",
      "IP: 23.230.12.5 Location: San Jose, CA\n",
      "IP: 23.80.125.101 Location: Phoenix, AZ\n",
      "IP: 23.83.132.200 Location: Phoenix, AZ\n",
      "IP: 23.88.15.5 Location: Los Angeles, CA\n",
      "IP: 24.0.14.56 Location: Woodbridge, NJ\n",
      "IP: 24.1.25.140 Location: Chicago, IL\n",
      "IP: 24.11.125.10 Location: Orem, UT\n",
      "IP: 24.38.114.105 Location: Not Provided\n",
      "IP: 24.38.224.161 Location: Bridgeport, CT\n",
      "IP: 56.216.127.219 Location: Raleigh, NC\n",
      "IP: 68.199.40.156 Location: Englishtown, NJ\n",
      "IP: 74.111.18.59 Location: Auburn, NY\n",
      "IP: 74.111.6.173 Location: Liverpool, NY\n",
      "IP: 98.29.25.4 Location: Dayton, OH\n"
     ]
    }
   ],
   "source": [
    "# Step 4: write main program here\n",
    "import requests\n",
    "import json\n",
    "\n",
    "def geoiplookup(ip_list): #adjusted my program to take a list which is what the load_ip_list does, if there is no filename and just an IP, ip_list will still be a list, but only have one value and still function.\n",
    "    url = 'http://freegeoip.net/json/'\n",
    "    location_list = []\n",
    "    for IP in ip_list:\n",
    "        response = requests.get(url + IP)\n",
    "        location = response.json()\n",
    "        location_list.append(location)\n",
    "    return location_list\n",
    "\n",
    "def load_ip_list(filename):\n",
    "    with open (filename, 'r') as ip_list:\n",
    "        ip_list = [ip[:-1] for ip in list(ip_list.readlines())] #remove the '\\n' from the list items\n",
    "    return ip_list\n",
    "\n",
    "try:\n",
    "    filename = 'NYC2-IP-Addresses.txt'\n",
    "    ip_list = load_ip_list(filename)\n",
    "    if ip_list == []: #handle if the user's list of IP's is empty\n",
    "        print(\"Your file did not have any IP addresses listed. Ending program...\")\n",
    "    else:\n",
    "        location_list = geoiplookup(ip_list)\n",
    "        for location in location_list:\n",
    "            if location['city'] == '' or location['region_code'] == '': #address if the IP comes back with no location\n",
    "                print(\"IP: %s Location: Not Provided\" % (location['ip']))\n",
    "            else:\n",
    "                print(\"IP: %s Location: %s, %s\" % (location['ip'], location['city'], location['region_code']))\n",
    "\n",
    "except json.decoder.JSONDecodeError as e: \n",
    "    print(\"ERROR: Cannot decode the response into json\")\n",
    "    print(\"DETAILS\", e)\n",
    "\n",
    "except requests.exceptions.HTTPError as e:\n",
    "    print(\"ERROR: Response from \", url, 'was not ok.')\n",
    "    print(\"DETAILS:\", e)\n",
    "\n",
    "except requests.exceptions.RequestException as e: \n",
    "    print(\"ERROR: Cannot connect to \", url)\n",
    "    print(\"DETAILS:\", e)"
   ]
  },
  {
   "cell_type": "markdown",
   "metadata": {},
   "source": [
    "## Step 5: Questions\n",
    "\n",
    "1. Place your laptop in Airplane mode and run the program. How can this program be modified so that it will not error in the event of a network outage? \n",
    "2. In what other ways can this program be modified to be more useful?\n",
    "3. What is the advantage of reading the IP Addresses from a file as opposed to entering them in ar run time?\n"
   ]
  },
  {
   "cell_type": "markdown",
   "metadata": {},
   "source": [
    "## Reminder of Evaluation Criteria\n",
    "\n",
    "1. What the problem attempted (analysis, code, and answered questions) ?\n",
    "2. What the problem analysis thought out? (does the program match the plan?)\n",
    "3. Does the code execute without syntax error?\n",
    "4. Does the code solve the intended problem?\n",
    "5. Is the code well written? (easy to understand, modular, and self-documenting, handles errors)\n"
   ]
  },
  {
   "cell_type": "code",
   "execution_count": null,
   "metadata": {},
   "outputs": [],
   "source": []
  }
 ],
 "metadata": {
  "anaconda-cloud": {},
  "kernelspec": {
   "display_name": "Python 3",
   "language": "python",
   "name": "python3"
  },
  "language_info": {
   "codemirror_mode": {
    "name": "ipython",
    "version": 3
   },
   "file_extension": ".py",
   "mimetype": "text/x-python",
   "name": "python",
   "nbconvert_exporter": "python",
   "pygments_lexer": "ipython3",
   "version": "3.6.3"
  }
 },
 "nbformat": 4,
 "nbformat_minor": 1
}
