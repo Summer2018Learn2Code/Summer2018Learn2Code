{
 "cells": [
  {
   "cell_type": "markdown",
   "metadata": {},
   "source": [
    "# End-To-End Example: Today's Weather\n",
    "\n",
    "This example will input a location and then output today's current weather conditions at that location. \n",
    "\n",
    "To complete this example we will use the following API's \n",
    "\n",
    "- Google Geocode api to get GPS coordinates for a location eg. Syracuse, NY\n",
    "- Darksky.net forecast api to get the currnt weather conditions for those GPS coordinates\n"
   ]
  },
  {
   "cell_type": "code",
   "execution_count": null,
   "metadata": {
    "collapsed": true
   },
   "outputs": [],
   "source": [
    "# Todo list\n",
    "# input a location eg. Syracuse, ny\n",
    "# use the google geocode api to get a lat/lng\n",
    "# use the darksky api and lat/lng to get current weather conditions\n",
    "# output current weather conditions (temperature and summary (rain, snow, etc...))\n"
   ]
  },
  {
   "cell_type": "code",
   "execution_count": null,
   "metadata": {
    "collapsed": false
   },
   "outputs": [],
   "source": [
    "import requests\n",
    "\n",
    "#first I write these\n",
    "\n",
    "def google_geocode(location):\n",
    "    params = {'address' : location}\n",
    "    url = 'http://maps.googleapis.com/maps/api/geocode/json'\n",
    "    response = requests.get(url, params = params)\n",
    "    geodata = response.json()\n",
    "    return geodata\n",
    "\n",
    "def darksky_weather(coords):\n",
    "    key = '8bbd2056a66915d251dd59abdf906bd2' # sign up for your own key at https://darksky.net/dev \n",
    "    url='https://api.darksky.net/forecast/%s/%f,%f' % (key, coords['lat'], coords['lng'])\n",
    "    response = requests.get(url)\n",
    "    weather = response.json()\n",
    "    return weather\n",
    "\n",
    "\n",
    "# then test them here\n",
    "geodata = google_geocode('Syracuse, NY')\n",
    "coords =geodata['results'][0]['geometry']['location']\n",
    "weather = darksky_weather(coords)\n",
    "weather\n",
    "    "
   ]
  },
  {
   "cell_type": "code",
   "execution_count": null,
   "metadata": {
    "collapsed": false
   },
   "outputs": [],
   "source": [
    "import requests\n",
    "# Now I can write the entire program...\n",
    "location = input(\"Where are you? (eg. Syracuse, NY) : \")\n",
    "geodata = google_geocode(location)\n",
    "coords =geodata['results'][0]['geometry']['location']\n",
    "weather = darksky_weather(coords)\n",
    "current = weather['currently']\n",
    "print(\"Current conditions in %s are %s with a temperature of %.0f degrees.\" % \n",
    "      (location, current['summary'], current['temperature']))\n"
   ]
  },
  {
   "cell_type": "code",
   "execution_count": null,
   "metadata": {
    "collapsed": true
   },
   "outputs": [],
   "source": []
  }
 ],
 "metadata": {
  "anaconda-cloud": {},
  "kernelspec": {
   "display_name": "Python [default]",
   "language": "python",
   "name": "python3"
  },
  "language_info": {
   "codemirror_mode": {
    "name": "ipython",
    "version": 3
   },
   "file_extension": ".py",
   "mimetype": "text/x-python",
   "name": "python",
   "nbconvert_exporter": "python",
   "pygments_lexer": "ipython3",
   "version": "3.5.2"
  }
 },
 "nbformat": 4,
 "nbformat_minor": 0
}
