{
 "cells": [
  {
   "cell_type": "markdown",
   "metadata": {},
   "source": [
    "# In-Class Coding Lab: Web Services and APIs\n",
    "\n",
    "### Overview\n",
    "\n",
    "The web has long evolved from user-consumption to device consumption. In the early days of the web when you wanted to check the weather, you opened up your browser and visited a website. Nowadays your smart watch / smart phone retrieves the weather for you and displays it on the device. Your device can't predict the weather. It's simply consuming a weather based service. \n",
    "\n",
    "The key to making device consumption work are API's (Application Program Interfaces). Products we use everyday like smartphones, Amazon's Alexa, and gaming consoles all rely on API's. They seem \"smart\" and \"powerful\" but in actuality they're only interfacing with smart and powerful services in the cloud.\n",
    "\n",
    "API consumption is the new reality of programming; it is why we cover it in this course. Once you undersand how to conusme API's you can write a program to do almost anything and harness the power of the internet to make your own programs look \"smart\" and \"powerful.\" \n",
    "\n",
    "This lab covers how to properly use consume web service API's with Python. Here's what we will cover.\n",
    "\n",
    "1. Understading requests and responses\n",
    "1. Proper error handling\n",
    "1. Parameter handling\n",
    "1. Refactoring as a function\n"
   ]
  },
  {
   "cell_type": "markdown",
   "metadata": {},
   "source": [
    "## Pre-Requisites: Let's install what we need for the remainder of the course:\n",
    "\n",
    "NOTE: Run this cell. It will install several Python packages you will need. It might take 2-3 minutes to do the installs please be patient."
   ]
  },
  {
   "cell_type": "code",
   "execution_count": 1,
   "metadata": {},
   "outputs": [
    {
     "name": "stdout",
     "output_type": "stream",
     "text": [
      "\n",
      "\n",
      "Package plan for installation in environment C:\\ProgramData\\Miniconda3:\n",
      "\n",
      "The following NEW packages will be INSTALLED:\n",
      "\n",
      "    beautifulsoup4:  4.6.0-py36hd4cc5e8_1             \n",
      "    cycler:          0.10.0-py36h009560c_0            \n",
      "    freetype:        2.8-h51f8f2c_1                   \n",
      "    icu:             58.2-ha66f8fd_1                  \n",
      "    jpeg:            9b-hb83a4c4_2                    \n",
      "    kiwisolver:      1.0.1-py36h12c3424_0             \n",
      "    libpng:          1.6.34-h79bbb47_0                \n",
      "    matplotlib:      2.2.2-py36h153e9ff_0             \n",
      "    pandas:          0.22.0-py36h6538335_0            \n",
      "    pyqt:            5.6.0-py36hb5ed885_5             \n",
      "    python-dateutil: 2.7.2-py36_0                     \n",
      "    pytz:            2018.3-py36_0                    \n",
      "    qt:              5.6.2-vc14h6f8c307_12            \n",
      "    sip:             4.18.1-py36h9c25514_2            \n",
      "    sqlite:          3.22.0-h9d3ae62_0                \n",
      "    tornado:         5.0.1-py36_1                     \n",
      "    zlib:            1.2.11-h8395fce_2                \n",
      "\n",
      "The following packages will be UPDATED:\n",
      "\n",
      "    conda:           4.3.29-py36_0         conda-forge --> 4.5.0-py36_0        \n",
      "    conda-env:       2.6.0-0               conda-forge --> 2.6.0-h36134e3_1    \n",
      "    pycosat:         0.6.2-py36hf17546d_1              --> 0.6.3-py36h413d8a4_0\n",
      "\n"
     ]
    },
    {
     "name": "stderr",
     "output_type": "stream",
     "text": [
      "\n",
      "CondaIOError: Missing write permissions in: C:\\ProgramData\\Miniconda3\n",
      "#\n",
      "# You don't appear to have the necessary permissions to install packages\n",
      "# into the install area 'C:\\ProgramData\\Miniconda3'.\n",
      "# However you can clone this environment into your home directory and\n",
      "# then make changes to it.\n",
      "# This may be done using the command:\n",
      "#\n",
      "# $ conda create -n my_root --clone=\"C:\\ProgramData\\Miniconda3\"\n",
      "\n",
      "\n"
     ]
    },
    {
     "name": "stdout",
     "output_type": "stream",
     "text": [
      "Requirement already satisfied: requests in c:\\programdata\\miniconda3\\lib\\site-packages\n",
      "Requirement already satisfied: html5 in c:\\programdata\\miniconda3\\lib\\site-packages\n",
      "Requirement already satisfied: lxml in c:\\programdata\\miniconda3\\lib\\site-packages\n",
      "Requirement already satisfied: chardet<3.1.0,>=3.0.2 in c:\\programdata\\miniconda3\\lib\\site-packages (from requests)\n",
      "Requirement already satisfied: idna<2.7,>=2.5 in c:\\programdata\\miniconda3\\lib\\site-packages (from requests)\n",
      "Requirement already satisfied: urllib3<1.23,>=1.21.1 in c:\\programdata\\miniconda3\\lib\\site-packages (from requests)\n",
      "Requirement already satisfied: certifi>=2017.4.17 in c:\\programdata\\miniconda3\\lib\\site-packages (from requests)\n",
      "Requirement already satisfied: webencodings in c:\\programdata\\miniconda3\\lib\\site-packages (from html5)\n",
      "Requirement already satisfied: six in c:\\programdata\\miniconda3\\lib\\site-packages (from html5)\n",
      "Requirement already satisfied: setuptools>=18.5 in c:\\programdata\\miniconda3\\lib\\site-packages (from html5)\n"
     ]
    },
    {
     "name": "stderr",
     "output_type": "stream",
     "text": [
      "You are using pip version 9.0.1, however version 9.0.3 is available.\n",
      "You should consider upgrading via the 'python -m pip install --upgrade pip' command.\n"
     ]
    },
    {
     "name": "stdout",
     "output_type": "stream",
     "text": [
      "Requirement already satisfied: plotly in c:\\programdata\\miniconda3\\lib\\site-packages\n",
      "Requirement already satisfied: cufflinks in c:\\programdata\\miniconda3\\lib\\site-packages\n",
      "Requirement already satisfied: folium in c:\\programdata\\miniconda3\\lib\\site-packages\n",
      "Requirement already satisfied: requests in c:\\programdata\\miniconda3\\lib\\site-packages (from plotly)\n",
      "Requirement already satisfied: nbformat>=4.2 in c:\\programdata\\miniconda3\\lib\\site-packages (from plotly)\n",
      "Requirement already satisfied: decorator>=4.0.6 in c:\\programdata\\miniconda3\\lib\\site-packages (from plotly)\n",
      "Requirement already satisfied: six in c:\\programdata\\miniconda3\\lib\\site-packages (from plotly)\n",
      "Requirement already satisfied: pytz in c:\\programdata\\miniconda3\\lib\\site-packages (from plotly)\n",
      "Requirement already satisfied: pandas in c:\\programdata\\miniconda3\\lib\\site-packages (from cufflinks)\n",
      "Requirement already satisfied: colorlover>=0.2 in c:\\programdata\\miniconda3\\lib\\site-packages (from cufflinks)\n",
      "Requirement already satisfied: branca in c:\\programdata\\miniconda3\\lib\\site-packages (from folium)\n",
      "Requirement already satisfied: jinja2 in c:\\programdata\\miniconda3\\lib\\site-packages (from folium)\n",
      "Requirement already satisfied: chardet<3.1.0,>=3.0.2 in c:\\programdata\\miniconda3\\lib\\site-packages (from requests->plotly)\n",
      "Requirement already satisfied: idna<2.7,>=2.5 in c:\\programdata\\miniconda3\\lib\\site-packages (from requests->plotly)\n",
      "Requirement already satisfied: urllib3<1.23,>=1.21.1 in c:\\programdata\\miniconda3\\lib\\site-packages (from requests->plotly)\n",
      "Requirement already satisfied: certifi>=2017.4.17 in c:\\programdata\\miniconda3\\lib\\site-packages (from requests->plotly)\n",
      "Requirement already satisfied: traitlets>=4.1 in c:\\programdata\\miniconda3\\lib\\site-packages (from nbformat>=4.2->plotly)\n",
      "Requirement already satisfied: jsonschema!=2.5.0,>=2.4 in c:\\programdata\\miniconda3\\lib\\site-packages (from nbformat>=4.2->plotly)\n",
      "Requirement already satisfied: ipython-genutils in c:\\programdata\\miniconda3\\lib\\site-packages (from nbformat>=4.2->plotly)\n",
      "Requirement already satisfied: jupyter-core in c:\\programdata\\miniconda3\\lib\\site-packages (from nbformat>=4.2->plotly)\n",
      "Requirement already satisfied: python-dateutil>=2 in c:\\programdata\\miniconda3\\lib\\site-packages (from pandas->cufflinks)\n",
      "Requirement already satisfied: numpy>=1.9.0 in c:\\programdata\\miniconda3\\lib\\site-packages (from pandas->cufflinks)\n",
      "Requirement already satisfied: MarkupSafe>=0.23 in c:\\programdata\\miniconda3\\lib\\site-packages (from jinja2->folium)\n"
     ]
    },
    {
     "name": "stderr",
     "output_type": "stream",
     "text": [
      "You are using pip version 9.0.1, however version 9.0.3 is available.\n",
      "You should consider upgrading via the 'python -m pip install --upgrade pip' command.\n"
     ]
    }
   ],
   "source": [
    "!conda install -y -q  pandas matplotlib beautifulsoup4\n",
    "!pip install requests html5 lxml\n",
    "!pip install plotly cufflinks folium\n",
    "\n"
   ]
  },
  {
   "cell_type": "markdown",
   "metadata": {},
   "source": [
    "## Part 1: Understanding Requests and responses\n",
    "\n",
    "In this part we learn about the Python requests module. http://docs.python-requests.org/en/master/user/quickstart/ \n",
    "\n",
    "This module makes it easy to write code to send HTTP requests over the internet and handle the responses. It will be the cornerstone of our API consumption in this course. While there are other modules which accomplish the same thing, `requests` is the most straightforward and easiest to use.\n",
    "\n",
    "We'll begin by importing the modules we will need. We do this here so we won't need to include these lines in the other code we write in this lab."
   ]
  },
  {
   "cell_type": "code",
   "execution_count": 2,
   "metadata": {},
   "outputs": [],
   "source": [
    "# start by importing the modules we will need\n",
    "import requests\n",
    "import json "
   ]
  },
  {
   "cell_type": "markdown",
   "metadata": {},
   "source": [
    "### The request \n",
    "\n",
    "As you learned in class and your assigned readings, the HTTP protocol has **verbs** which consititue the type of request you will send to the remote resource, or **url**. Based on the url and request type, you will get a **response**.\n",
    "\n",
    "The following line of code makes a **get** request (that's the HTTP verb) to Google's Geocoding API service. This service attempts to convert the address (in this case `Syracuse University`) into a set of coordinates global coordinates (Latitude and Longitude), so that location can be plotted on a map.\n"
   ]
  },
  {
   "cell_type": "code",
   "execution_count": 3,
   "metadata": {},
   "outputs": [],
   "source": [
    "url = 'http://maps.googleapis.com/maps/api/geocode/json?address=Syracuse+University'\n",
    "response = requests.get(url)"
   ]
  },
  {
   "cell_type": "markdown",
   "metadata": {},
   "source": [
    "### The response \n",
    "\n",
    "The `get()` method returns a `Response` object variable. I called it `response` in this example but it could be called anything. \n",
    "\n",
    "The HTTP response consists of a *status code* and *body*. The status code lets you know if the request worked, while the body of the response contains the actual data. \n"
   ]
  },
  {
   "cell_type": "code",
   "execution_count": 4,
   "metadata": {},
   "outputs": [
    {
     "data": {
      "text/plain": [
       "True"
      ]
     },
     "execution_count": 4,
     "metadata": {},
     "output_type": "execute_result"
    }
   ],
   "source": [
    "response.ok # did the request work?"
   ]
  },
  {
   "cell_type": "code",
   "execution_count": 5,
   "metadata": {},
   "outputs": [
    {
     "data": {
      "text/plain": [
       "'{\\n   \"results\" : [\\n      {\\n         \"address_components\" : [\\n            {\\n               \"long_name\" : \"Syracuse\",\\n               \"short_name\" : \"Syracuse\",\\n               \"types\" : [ \"locality\", \"political\" ]\\n            },\\n            {\\n               \"long_name\" : \"Onondaga County\",\\n               \"short_name\" : \"Onondaga County\",\\n               \"types\" : [ \"administrative_area_level_2\", \"political\" ]\\n            },\\n            {\\n               \"long_name\" : \"New York\",\\n               \"short_name\" : \"NY\",\\n               \"types\" : [ \"administrative_area_level_1\", \"political\" ]\\n            },\\n            {\\n               \"long_name\" : \"United States\",\\n               \"short_name\" : \"US\",\\n               \"types\" : [ \"country\", \"political\" ]\\n            }\\n         ],\\n         \"formatted_address\" : \"Syracuse, NY, USA\",\\n         \"geometry\" : {\\n            \"location\" : {\\n               \"lat\" : 43.0391534,\\n               \"lng\" : -76.13511579999999\\n            },\\n            \"location_type\" : \"GEOMETRIC_CENTER\",\\n            \"viewport\" : {\\n               \"northeast\" : {\\n                  \"lat\" : 43.04050238029149,\\n                  \"lng\" : -76.13376681970848\\n               },\\n               \"southwest\" : {\\n                  \"lat\" : 43.03780441970849,\\n                  \"lng\" : -76.13646478029149\\n               }\\n            }\\n         },\\n         \"place_id\" : \"ChIJVcwsup_z2YkRTQhRUgaJYF4\",\\n         \"types\" : [ \"establishment\", \"point_of_interest\", \"university\" ]\\n      }\\n   ],\\n   \"status\" : \"OK\"\\n}\\n'"
      ]
     },
     "execution_count": 5,
     "metadata": {},
     "output_type": "execute_result"
    }
   ],
   "source": [
    "response.text  # what's in the body of the response, as a raw string"
   ]
  },
  {
   "cell_type": "markdown",
   "metadata": {},
   "source": [
    "### Converting responses into Python object variables \n",
    "\n",
    "In the case of **web site url's** the response body is **HTML**. This should be rendered in a web browser. But we're dealing with Web Service API's so...\n",
    "\n",
    "In the case of **web API url's** the response body could be in a variety of formats from **plain text**, to **XML** or **JSON**. In this course we will only focus on JSON format because as we've seen these translate easily into Python object variables.\n",
    "\n",
    "Let's convert the response to a Python object variable. I this case it will be a Python dictionary"
   ]
  },
  {
   "cell_type": "code",
   "execution_count": 6,
   "metadata": {},
   "outputs": [
    {
     "data": {
      "text/plain": [
       "{'results': [{'address_components': [{'long_name': 'Syracuse',\n",
       "     'short_name': 'Syracuse',\n",
       "     'types': ['locality', 'political']},\n",
       "    {'long_name': 'Onondaga County',\n",
       "     'short_name': 'Onondaga County',\n",
       "     'types': ['administrative_area_level_2', 'political']},\n",
       "    {'long_name': 'New York',\n",
       "     'short_name': 'NY',\n",
       "     'types': ['administrative_area_level_1', 'political']},\n",
       "    {'long_name': 'United States',\n",
       "     'short_name': 'US',\n",
       "     'types': ['country', 'political']}],\n",
       "   'formatted_address': 'Syracuse, NY, USA',\n",
       "   'geometry': {'location': {'lat': 43.0391534, 'lng': -76.1351158},\n",
       "    'location_type': 'GEOMETRIC_CENTER',\n",
       "    'viewport': {'northeast': {'lat': 43.04050238029149,\n",
       "      'lng': -76.13376681970848},\n",
       "     'southwest': {'lat': 43.03780441970849, 'lng': -76.13646478029149}}},\n",
       "   'place_id': 'ChIJVcwsup_z2YkRTQhRUgaJYF4',\n",
       "   'types': ['establishment', 'point_of_interest', 'university']}],\n",
       " 'status': 'OK'}"
      ]
     },
     "execution_count": 6,
     "metadata": {},
     "output_type": "execute_result"
    }
   ],
   "source": [
    "geodata = response.json()  # try to decode the response from JSON format\n",
    "geodata                    # this is now a Python object variable"
   ]
  },
  {
   "cell_type": "markdown",
   "metadata": {},
   "source": [
    "With our Python object, we can now walk the python object to retrieve the latitude and longitude\n"
   ]
  },
  {
   "cell_type": "code",
   "execution_count": 7,
   "metadata": {},
   "outputs": [
    {
     "data": {
      "text/plain": [
       "{'lat': 43.0391534, 'lng': -76.1351158}"
      ]
     },
     "execution_count": 7,
     "metadata": {},
     "output_type": "execute_result"
    }
   ],
   "source": [
    "coords = geodata['results'][0]['geometry']['location']\n",
    "coords"
   ]
  },
  {
   "cell_type": "markdown",
   "metadata": {},
   "source": [
    "In the code above we \"walked\" the Python dictionary to get to the location\n",
    "\n",
    "- `geodata['results']` is a list\n",
    "- `geodata['results'][0]` is the first item in that list, a dictionary\n",
    "- `geodata['results'][0]['geometry']` is a key which represents another dictionary\n",
    "- `geodata['results'][0]['geometry']['location']` is a key which contains the dictionary we want!\n",
    "\n",
    "It should be noted that this process will vary for each API you call, so its important to get accustomed to performing this task. You'll be doing it quite often. "
   ]
  },
  {
   "cell_type": "markdown",
   "metadata": {},
   "source": [
    "### Now You Try It!\n",
    "\n",
    "Walk the `geodata` object variable and reteieve the value under the key `place_id` and the `formatted_address`"
   ]
  },
  {
   "cell_type": "code",
   "execution_count": 8,
   "metadata": {},
   "outputs": [
    {
     "name": "stdout",
     "output_type": "stream",
     "text": [
      "ID: ChIJVcwsup_z2YkRTQhRUgaJYF4; Address: Syracuse, NY, USA\n"
     ]
    }
   ],
   "source": [
    "# todo:\n",
    "# retrieve the place_id put in a variable\n",
    "# retrieve the formatted_address put it in a variable\n",
    "# print both of them out\n",
    "\n",
    "\n",
    "place = geodata['results'][0]['place_id']\n",
    "address = geodata['results'][0]['formatted_address']\n",
    "print(\"ID: %s; Address: %s\" % (place, address))"
   ]
  },
  {
   "cell_type": "markdown",
   "metadata": {},
   "source": [
    "## Part 2: Parameter Handling\n",
    "\n",
    "In the example above we hard-coded \"Syracuse University\" into the request:\n",
    "```\n",
    "url = 'http://maps.googleapis.com/maps/api/geocode/json?address=Syracuse+University'\n",
    "``` \n",
    "A better way to write this code is to allow for the input of any location and supply that to the service. To make this work we need to send parameters into the request as a dictionary. This way we can geolocate any address!\n",
    "\n",
    "You'll notice that on the url, we are passing a **key-value pair** the key is `address` and the value is `Syracuse+University`. Python dictionaries are also key-value pairs, so:"
   ]
  },
  {
   "cell_type": "code",
   "execution_count": 9,
   "metadata": {},
   "outputs": [
    {
     "name": "stdout",
     "output_type": "stream",
     "text": [
      "Address {'address': 'Syracuse University'}\n",
      "Coordinates {'lat': 43.0391534, 'lng': -76.1351158}\n",
      "Syracuse University is located at (43.039153,-76.135116)\n"
     ]
    }
   ],
   "source": [
    "url = 'http://maps.googleapis.com/maps/api/geocode/json'  # base URL without paramters after the \"?\"\n",
    "options = { 'address' : 'Syracuse University'}            # options['address'] == 'Syracuse University'\n",
    "response = requests.get(url, params = options)            \n",
    "geodata = response.json()\n",
    "coords = geodata['results'][0]['geometry']['location']\n",
    "print(\"Address\", options)\n",
    "print(\"Coordinates\", coords)\n",
    "print(\"%s is located at (%f,%f)\" %(options['address'], coords['lat'], coords['lng']))"
   ]
  },
  {
   "cell_type": "markdown",
   "metadata": {},
   "source": [
    "### Looking up any address\n",
    "\n",
    "RECALL: For `requests.get(url, params = options)` the part that says `params = options` is called a **named argument**, which is Python's way of specifying an optional function argument.\n",
    "\n",
    "With our parameter now outside the url, we can easily re-write this code to work for any location! Go ahead and execute the code and input `Queens, NY`. This will retrieve the coordinates `(40.728224,-73.794852)`"
   ]
  },
  {
   "cell_type": "code",
   "execution_count": 11,
   "metadata": {},
   "outputs": [
    {
     "name": "stdout",
     "output_type": "stream",
     "text": [
      "Enter a location: Hamburg, NY\n",
      "Address {'address': 'Hamburg, NY'}\n",
      "Coordinates {'lat': 42.7158927, 'lng': -78.8294768}\n",
      "Hamburg, NY is located at (42.715893,-78.829477)\n"
     ]
    }
   ],
   "source": [
    "location = input(\"Enter a location: \")\n",
    "\n",
    "url = 'http://maps.googleapis.com/maps/api/geocode/json'\n",
    "options = { 'address' : location }  # no longer 'Syracuse University' but whatever you type!\n",
    "response = requests.get(url, params = options)            \n",
    "geodata = response.json()\n",
    "coords = geodata['results'][0]['geometry']['location']\n",
    "print(\"Address\", options)\n",
    "print(\"Coordinates\", coords)\n",
    "print(\"%s is located at (%f,%f)\" %(location, coords['lat'], coords['lng']))"
   ]
  },
  {
   "cell_type": "markdown",
   "metadata": {},
   "source": [
    "### So useful, it should be a function\n",
    "\n",
    "One thing you'll come to realize quickly is that your API calls should be wrapped in functions. This promotes **readability** and **code re-use**. For example:"
   ]
  },
  {
   "cell_type": "code",
   "execution_count": 13,
   "metadata": {},
   "outputs": [
    {
     "name": "stdout",
     "output_type": "stream",
     "text": [
      "Enter a location: Hamburg, NY\n",
      "Hamburg, NY is located at (42.715893,-78.829477)\n"
     ]
    }
   ],
   "source": [
    "def get_coordinates_using_google(location):\n",
    "    options = { 'address' : location }  \n",
    "    response = requests.get(url, params = options)            \n",
    "    geodata = response.json()\n",
    "    coords = geodata['results'][0]['geometry']['location']\n",
    "    return coords\n",
    "\n",
    "# main program here:\n",
    "location = input(\"Enter a location: \")\n",
    "coords = get_coordinates_using_google(location)\n",
    "print(\"%s is located at (%f,%f)\" %(location, coords['lat'], coords['lng']))\n"
   ]
  },
  {
   "cell_type": "markdown",
   "metadata": {},
   "source": [
    "### Other request methods\n",
    "\n",
    "Not every API we call uses the `get()` method. Some use `post()` because the amount of data you provide it too large to place on the url. \n",
    "\n",
    "An example of this is the **Text-Processing.com** sentiment analysis service. http://text-processing.com/docs/sentiment.html This service will detect the sentiment or mood of text. You give the service some text, and it tells you whether that text is positive, negative or neutral. "
   ]
  },
  {
   "cell_type": "code",
   "execution_count": 14,
   "metadata": {},
   "outputs": [
    {
     "data": {
      "text/plain": [
       "{'label': 'neg',\n",
       " 'probability': {'neg': 0.520097595188211,\n",
       "  'neutral': 0.3886824782142297,\n",
       "  'pos': 0.479902404811789}}"
      ]
     },
     "execution_count": 14,
     "metadata": {},
     "output_type": "execute_result"
    }
   ],
   "source": [
    "# 'you suck' == 'negative'\n",
    "url = 'http://text-processing.com/api/sentiment/'\n",
    "options = { 'text' : 'you suck'}\n",
    "response = requests.post(url, data = options)\n",
    "sentiment = response.json()\n",
    "sentiment"
   ]
  },
  {
   "cell_type": "code",
   "execution_count": 15,
   "metadata": {},
   "outputs": [
    {
     "data": {
      "text/plain": [
       "{'label': 'pos',\n",
       " 'probability': {'neg': 0.3866732207796809,\n",
       "  'neutral': 0.18366003088446245,\n",
       "  'pos': 0.6133267792203191}}"
      ]
     },
     "execution_count": 15,
     "metadata": {},
     "output_type": "execute_result"
    }
   ],
   "source": [
    "# 'I love cheese' == 'positive'\n",
    "url = 'http://text-processing.com/api/sentiment/'\n",
    "options = { 'text' : 'I love cheese'}\n",
    "response = requests.post(url, data = options)\n",
    "sentiment = response.json()\n",
    "sentiment"
   ]
  },
  {
   "cell_type": "markdown",
   "metadata": {},
   "source": [
    "In the examples provided we used the `post()` method instead of the `get()` method. the `post()` method has a named argument `data` which takes a dictionary of data. The key required by **text-processing.com** is `text` which hold the text you would like to process for sentiment.\n",
    "\n",
    "We use a post in the event the text we wish to process is very long. Case in point:"
   ]
  },
  {
   "cell_type": "code",
   "execution_count": 16,
   "metadata": {},
   "outputs": [
    {
     "data": {
      "text/plain": [
       "{'label': 'neg',\n",
       " 'probability': {'neg': 0.8574162710846805,\n",
       "  'neutral': 0.41809934640572893,\n",
       "  'pos': 0.14258372891531948}}"
      ]
     },
     "execution_count": 16,
     "metadata": {},
     "output_type": "execute_result"
    }
   ],
   "source": [
    "tweet = \"Arnold Schwarzenegger isn't voluntarily leaving the Apprentice, he was fired by his bad (pathetic) ratings, not by me. Sad end to great show\"\n",
    "url = 'http://text-processing.com/api/sentiment/'\n",
    "options = { 'text' : tweet }\n",
    "response = requests.post(url, data = options)\n",
    "sentiment = response.json()\n",
    "sentiment"
   ]
  },
  {
   "cell_type": "markdown",
   "metadata": {},
   "source": [
    "\n",
    "## Part 3: Proper Error Handling (In 3 Simple Rules)\n",
    "\n",
    "When you write code that depends on other people's code from around the Internet, there's a lot that can go wrong. Therefore we perscribe the following advice:\n",
    "\n",
    "```\n",
    "Assume anything that CAN go wrong WILL go wrong\n",
    "```\n"
   ]
  },
  {
   "cell_type": "markdown",
   "metadata": {},
   "source": [
    "### Rule 1: Don't assume the internet 'always works'\n",
    "\n",
    "The first rule of programming over a network is to NEVER assume the network is available. You need to assume the worst. No WiFi, user types in a bad url, the remote website is down, etc. \n",
    "\n",
    "We handle this in the `requests` module by catching the `requests.exceptions.RequestException` Here's an example:"
   ]
  },
  {
   "cell_type": "code",
   "execution_count": 17,
   "metadata": {},
   "outputs": [
    {
     "name": "stdout",
     "output_type": "stream",
     "text": [
      "ERROR: Cannot connect to  http://this is not a website\n",
      "DETAILS: HTTPConnectionPool(host='this%20is%20not%20a%20website', port=80): Max retries exceeded with url: / (Caused by NewConnectionError('<urllib3.connection.HTTPConnection object at 0x00000000078B70B8>: Failed to establish a new connection: [Errno 11004] getaddrinfo failed',))\n"
     ]
    }
   ],
   "source": [
    "url = \"http://this is not a website\"\n",
    "try:\n",
    "\n",
    "    response = requests.get(url)  # throws an exception when it cannot connect\n",
    "\n",
    "# internet is broken\n",
    "except requests.exceptions.RequestException as e:\n",
    "    print(\"ERROR: Cannot connect to \", url)\n",
    "    print(\"DETAILS:\", e)"
   ]
  },
  {
   "cell_type": "markdown",
   "metadata": {},
   "source": [
    "### Rule 2: Don't assume the response you get back is valid\n",
    "\n",
    "Assuming the internet is not broken (Rule 1) You should now check for HTTP response 200 which means the url responded successfully.  Other responses like 404 or 501 indicate an error occured and that means you should not keep processing the response.\n",
    "\n",
    "Here's one way to do it:"
   ]
  },
  {
   "cell_type": "code",
   "execution_count": 18,
   "metadata": {},
   "outputs": [
    {
     "name": "stdout",
     "output_type": "stream",
     "text": [
      "There was an Error requesting: http://www.syr.edu/mikeisawesum  HTTP Response Code:  404\n"
     ]
    }
   ],
   "source": [
    "url = 'http://www.syr.edu/mikeisawesum'  # this should 404\n",
    "try:\n",
    "    \n",
    "    response = requests.get(url)\n",
    "    \n",
    "    if response.ok:  # same as response.status_code == 200\n",
    "        data = response.text\n",
    "    else: # Some other non 200 response code\n",
    "        print(\"There was an Error requesting:\", url, \" HTTP Response Code: \", response.status_code)\n",
    "\n",
    "# internet is broken\n",
    "except requests.exceptions.RequestException as e: \n",
    "    print(\"ERROR: Cannot connect to \", url)\n",
    "    print(\"DETAILS:\", e)\n"
   ]
  },
  {
   "cell_type": "markdown",
   "metadata": {},
   "source": [
    "### Rule 2a: Use exceptions instead of if else in this case\n",
    "\n",
    "Personally I don't like to use `if ... else` to handle an error. Instead, I prefer to instruct `requests` to throw an exception of `requests.exceptions.HTTPError` whenever the response is not ok. This makes the code you write a little cleaner.\n",
    "\n",
    "Errors are rare occurences, and so I  don't like error handling cluttering up my code. \n"
   ]
  },
  {
   "cell_type": "code",
   "execution_count": 19,
   "metadata": {},
   "outputs": [
    {
     "name": "stdout",
     "output_type": "stream",
     "text": [
      "ERROR: Response from  http://www.syr.edu/mikeisawesum was not ok.\n",
      "DETAILS: 404 Client Error: Not Found for url: https://www.syracuse.edu/mikeisawesum\n"
     ]
    }
   ],
   "source": [
    "url = 'http://www.syr.edu/mikeisawesum'  # this should 404\n",
    "try:\n",
    "    \n",
    "    response = requests.get(url)  # throws an exception when it cannot connect\n",
    "    response.raise_for_status()   # throws an exception when not 'ok'\n",
    "    data = response.text\n",
    "\n",
    "# response not ok\n",
    "except requests.exceptions.HTTPError as e:\n",
    "    print(\"ERROR: Response from \", url, 'was not ok.')\n",
    "    print(\"DETAILS:\", e)\n",
    "        \n",
    "# internet is broken\n",
    "except requests.exceptions.RequestException as e: \n",
    "    print(\"ERROR: Cannot connect to \", url)\n",
    "    print(\"DETAILS:\", e)\n"
   ]
  },
  {
   "cell_type": "markdown",
   "metadata": {},
   "source": [
    "###  Rule 3: Don't assume the data you get back is the data you expect.\n",
    "\n",
    "And finally, do not assume the data arriving the the `response` is the data you expected. Specifically when you try and decode the `JSON` don't assume that will go smoothly. Catch the `json.decoder.JSONDecodeError`."
   ]
  },
  {
   "cell_type": "code",
   "execution_count": 20,
   "metadata": {},
   "outputs": [
    {
     "name": "stdout",
     "output_type": "stream",
     "text": [
      "ERROR: Cannot decode the response into json\n",
      "DETAILS Expecting value: line 1 column 1 (char 0)\n"
     ]
    }
   ],
   "source": [
    "url = 'http://www.syr.edu' # this is HTML, not JSON\n",
    "try:\n",
    "\n",
    "    response = requests.get(url)  # throws an exception when it cannot connect\n",
    "    response.raise_for_status()   # throws an exception when not 'ok'\n",
    "    data = response.json()        # throws an exception when cannot decode json\n",
    "    \n",
    "# cannot decode json\n",
    "except json.decoder.JSONDecodeError as e: \n",
    "    print(\"ERROR: Cannot decode the response into json\")\n",
    "    print(\"DETAILS\", e)\n",
    "\n",
    "# response not ok\n",
    "except requests.exceptions.HTTPError as e:\n",
    "    print(\"ERROR: Response from \", url, 'was not ok.')\n",
    "    print(\"DETAILS:\", e)\n",
    "        \n",
    "# internet is broken\n",
    "except requests.exceptions.RequestException as e: \n",
    "    print(\"ERROR: Cannot connect to \", url)\n",
    "    print(\"DETAILS:\", e)"
   ]
  },
  {
   "cell_type": "markdown",
   "metadata": {},
   "source": [
    "### Now You try it!\n",
    "\n",
    "Using the last example above, write a program to input a location, call the `get_coordinates_using_google()` function, then print the coordindates. Make sure to handle all three types of exceptions!!!\n"
   ]
  },
  {
   "cell_type": "code",
   "execution_count": 23,
   "metadata": {},
   "outputs": [
    {
     "name": "stdout",
     "output_type": "stream",
     "text": [
      "Enter a location: Hamburg, NY\n",
      "Hamburg, NY is located at the following coordinates: (Latitude: 42.715893,Longitude -78.829477)\n"
     ]
    }
   ],
   "source": [
    "#this had mixed results when using the same input. Perhaps there is a limit on the API? I waited a little while and tried again and it worked again, thinking we are limited to the number API calls a day/hour/etc.?\n",
    "import requests\n",
    "import json\n",
    "\n",
    "def get_coordinates_using_google(location):\n",
    "    options = { 'address' : location }  \n",
    "    response = requests.get(url, params = options)            \n",
    "    geodata = response.json()\n",
    "    coords = geodata['results'][0]['geometry']['location']\n",
    "    return coords\n",
    "\n",
    "try:\n",
    "    location = input(\"Enter a location: \")\n",
    "    url = 'http://maps.googleapis.com/maps/api/geocode/json'\n",
    "    coords = get_coordinates_using_google(location)\n",
    "    print(\"%s is located at the following coordinates: (Latitude: %f,Longitude %f)\" % (location, coords['lat'], coords['lng']))\n",
    "\n",
    "except json.decoder.JSONDecodeError as e: \n",
    "    print(\"ERROR: Cannot decode the response into json\")\n",
    "    print(\"DETAILS\", e)\n",
    "\n",
    "except requests.exceptions.HTTPError as e:\n",
    "    print(\"ERROR: Response from \", url, 'was not ok.')\n",
    "    print(\"DETAILS:\", e)\n",
    "\n",
    "except requests.exceptions.RequestException as e: \n",
    "    print(\"ERROR: Cannot connect to \", url)\n",
    "    print(\"DETAILS:\", e)"
   ]
  },
  {
   "cell_type": "code",
   "execution_count": null,
   "metadata": {},
   "outputs": [],
   "source": []
  }
 ],
 "metadata": {
  "anaconda-cloud": {},
  "kernelspec": {
   "display_name": "Python 3",
   "language": "python",
   "name": "python3"
  },
  "language_info": {
   "codemirror_mode": {
    "name": "ipython",
    "version": 3
   },
   "file_extension": ".py",
   "mimetype": "text/x-python",
   "name": "python",
   "nbconvert_exporter": "python",
   "pygments_lexer": "ipython3",
   "version": "3.6.3"
  }
 },
 "nbformat": 4,
 "nbformat_minor": 1
}
