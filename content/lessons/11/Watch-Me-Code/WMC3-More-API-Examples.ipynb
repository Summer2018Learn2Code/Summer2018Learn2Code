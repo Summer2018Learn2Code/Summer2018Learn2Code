{
 "cells": [
  {
   "cell_type": "markdown",
   "metadata": {},
   "source": [
    "# More API Examples\n",
    "\n",
    "This notebook contains EVEN MORE API examples so you can get an idea of the types of services available. There's a world of API's out there for the taking, and we cannot teach them all to you. We can only teach you how they work in general... the details are 100% up to you!\n"
   ]
  },
  {
   "cell_type": "markdown",
   "metadata": {},
   "source": [
    "# Caller Id/ Get a location for a Phone number\n",
    "\n",
    "This uses the cosmin phone number lookup API as found on https://market.mashape.com/explore \n",
    "\n",
    "This api requires `headers` to be passed into the `get()` request. The API key and the requested output of `json` are sent into the header.\n",
    "\n",
    "Enter a phone number as input like `3154432911` and then the API will output JSON data consisting of caller ID data and GPS coordinates."
   ]
  },
  {
   "cell_type": "code",
   "execution_count": 15,
   "metadata": {
    "collapsed": false
   },
   "outputs": [
    {
     "name": "stdout",
     "output_type": "stream",
     "text": [
      "Enter your phone number: 3154432911\n"
     ]
    },
    {
     "data": {
      "text/plain": [
       "{'carrier': 'Verizon New York Inc.',\n",
       " 'cbsa_code': '45060',\n",
       " 'city': 'Syracuse',\n",
       " 'county': 'Onondaga',\n",
       " 'latitude': 43.051,\n",
       " 'longitude': -76.1481,\n",
       " 'opencnam': 'Please use \"opencnam-sid\" and \"opencnam-auth-token\" to see OpenCNAM results.',\n",
       " 'phone_number': {'npa': '315', 'nxx': '443', 'xxx': '2911'},\n",
       " 'state': 'New York',\n",
       " 'time_zone': 'Eastern (GMT -05:00)',\n",
       " 'type': 'Landline'}"
      ]
     },
     "execution_count": 15,
     "metadata": {},
     "output_type": "execute_result"
    }
   ],
   "source": [
    "import requests\n",
    "\n",
    "phone = input(\"Enter your phone number: \")\n",
    "params = { 'phone' : phone }\n",
    "headers={ \"X-Mashape-Key\": \"sNi0LJs3rBmshZL7KQOrRWXZqIsBp1XUjhnjsnYUsE6iKo14Nc\",\n",
    "    \"Accept\": \"application/json\" }\n",
    "response = requests.get(\"https://cosmin-us-phone-number-lookup.p.mashape.com/get.php\", params=params, headers=headers )\n",
    "\n",
    "phone_data = response.json()\n",
    "phone_data"
   ]
  },
  {
   "cell_type": "markdown",
   "metadata": {},
   "source": [
    "# Get current exchange rates\n",
    "\n",
    "This example uses http://fixer.io to get the current currency exchange rates.\n"
   ]
  },
  {
   "cell_type": "code",
   "execution_count": 16,
   "metadata": {
    "collapsed": false
   },
   "outputs": [
    {
     "data": {
      "text/plain": [
       "{'base': 'USD',\n",
       " 'date': '2017-03-06',\n",
       " 'rates': {'AUD': 1.3158,\n",
       "  'BGN': 1.8465,\n",
       "  'BRL': 3.1057,\n",
       "  'CAD': 1.339,\n",
       "  'CHF': 1.0096,\n",
       "  'CNY': 6.8967,\n",
       "  'CZK': 25.511,\n",
       "  'DKK': 7.0182,\n",
       "  'EUR': 0.94411,\n",
       "  'GBP': 0.81477,\n",
       "  'HKD': 7.7639,\n",
       "  'HRK': 6.9949,\n",
       "  'HUF': 292.25,\n",
       "  'IDR': 13348.0,\n",
       "  'ILS': 3.6773,\n",
       "  'INR': 66.65,\n",
       "  'JPY': 113.81,\n",
       "  'KRW': 1154.5,\n",
       "  'MXN': 19.53,\n",
       "  'MYR': 4.448,\n",
       "  'NOK': 8.4661,\n",
       "  'NZD': 1.4236,\n",
       "  'PHP': 50.275,\n",
       "  'PLN': 4.0683,\n",
       "  'RON': 4.2759,\n",
       "  'RUB': 58.119,\n",
       "  'SEK': 9.0007,\n",
       "  'SGD': 1.4101,\n",
       "  'THB': 35.03,\n",
       "  'TRY': 3.713,\n",
       "  'ZAR': 12.995}}"
      ]
     },
     "execution_count": 16,
     "metadata": {},
     "output_type": "execute_result"
    }
   ],
   "source": [
    "import requests\n",
    "\n",
    "params = { 'base' : 'USD' } # US Dollars\n",
    "response = requests.get(\"http://api.fixer.io/latest\", params=params )\n",
    "rates = response.json()\n",
    "rates"
   ]
  },
  {
   "cell_type": "markdown",
   "metadata": {},
   "source": [
    "# GeoIP lookup: Find the lat/lng of an IP Address\n",
    "\n",
    "Every computer on the internet has a unique IP Address. This service when given an IP address will return back where that IP Address is located. Pretty handy API which is commonly used with mobile devices to determine approximate location when the GPS is turned off. "
   ]
  },
  {
   "cell_type": "code",
   "execution_count": 17,
   "metadata": {
    "collapsed": false
   },
   "outputs": [
    {
     "data": {
      "text/plain": [
       "{'city': 'Syracuse',\n",
       " 'country_code': 'US',\n",
       " 'country_name': 'United States',\n",
       " 'ip': '128.230.182.17',\n",
       " 'latitude': 43.0377,\n",
       " 'longitude': -76.1396,\n",
       " 'metro_code': 555,\n",
       " 'region_code': 'NY',\n",
       " 'region_name': 'New York',\n",
       " 'time_zone': 'America/New_York',\n",
       " 'zip_code': '13244'}"
      ]
     },
     "execution_count": 17,
     "metadata": {},
     "output_type": "execute_result"
    }
   ],
   "source": [
    "ip = \"128.230.182.17\"\n",
    "response = requests.get('http://freegeoip.net/json/' + ip)\n",
    "response.json()"
   ]
  },
  {
   "cell_type": "markdown",
   "metadata": {},
   "source": [
    "## An API for the political junkie in you...\n",
    "\n",
    "The Sunlight Foundation has some pretty awesome API's for the retrieval of political data.  For example, here we use the Congress API \n",
    "https://sunlightlabs.github.io/congress/ to retrieve the names of the legislators for the city of Syracuse's postal code.\n"
   ]
  },
  {
   "cell_type": "code",
   "execution_count": 29,
   "metadata": {
    "collapsed": false
   },
   "outputs": [
    {
     "name": "stdout",
     "output_type": "stream",
     "text": [
      "John Katko (house-R) email: Rep.Katko@opencongress.org\n",
      "Charles Schumer (senate-D) email: Sen.Schumer@opencongress.org\n",
      "Kirsten Gillibrand (senate-D) email: Sen.Gillibrand@opencongress.org\n"
     ]
    }
   ],
   "source": [
    "# congress API\n",
    "zip_code = '13210'\n",
    "params = { 'zip' : zip_code } \n",
    "response = requests.get('https://congress.api.sunlightfoundation.com/legislators/locate', params = params)\n",
    "legislators = response.json()\n",
    "for legislator in legislators['results']:\n",
    "    l = legislator\n",
    "    print(\"%s %s (%s-%s) email: %s\" % (l['first_name'], l['last_name'], l['chamber'], l['party'],l['oc_email']))"
   ]
  },
  {
   "cell_type": "markdown",
   "metadata": {},
   "source": [
    "## Searching iTunes\n",
    "\n",
    "Here's an example of the iTunes search API. I'm searching for \"Mandatory fun\" and printing out the track names."
   ]
  },
  {
   "cell_type": "code",
   "execution_count": 32,
   "metadata": {
    "collapsed": false
   },
   "outputs": [
    {
     "name": "stdout",
     "output_type": "stream",
     "text": [
      "Word Crimes\n",
      "NOW That's What I Call Polka!\n",
      "Tacky\n",
      "Foil\n",
      "Handy\n",
      "Inactive\n",
      "First World Problems\n",
      "Sports Song\n",
      "Lame Claim to Fame\n",
      "Mission Statement\n",
      "Jackson Park Express\n",
      "My Own Eyes\n",
      "Mandatory Fun\n",
      "Mandatory Fun\n",
      "Cash\n",
      "Down\n",
      "Take Me Home\n",
      "Good as Gone\n",
      "Believe\n",
      "Fool's Gold\n",
      "The Truth\n",
      "Country Soul\n",
      "Spinning Round\n",
      "Heaven Help Me\n",
      "Air Traffic Control\n",
      "Drinks In the Air (feat. Mack)\n"
     ]
    }
   ],
   "source": [
    "term = 'Mandatory Fun'\n",
    "params = { 'term' : term }\n",
    "response = requests.get('https://itunes.apple.com/search', params = params)\n",
    "search = response.json()\n",
    "for r in search['results']:\n",
    "    print(r['trackName'])"
   ]
  },
  {
   "cell_type": "markdown",
   "metadata": {},
   "source": [
    "# Earthquakes anyone?\n",
    "\n",
    "Here's an example of the significant earthquakes from the past week. Information on this API can be found here:\n",
    "\n",
    "http://earthquake.usgs.gov/earthquakes/feed/v1.0/geojson.php \n"
   ]
  },
  {
   "cell_type": "code",
   "execution_count": 40,
   "metadata": {
    "collapsed": false
   },
   "outputs": [
    {
     "name": "stdout",
     "output_type": "stream",
     "text": [
      "M 6.3 - 32km NW of Kandrian, Papua New Guinea\n",
      "M 5.5 - 42km WSW of Anchor Point, Alaska\n"
     ]
    }
   ],
   "source": [
    "response = requests.get('https://earthquake.usgs.gov/earthquakes/feed/v1.0/summary/significant_week.geojson')\n",
    "quakes = response.json()\n",
    "for q in quakes['features']:\n",
    "    print(q['properties']['title'])"
   ]
  },
  {
   "cell_type": "code",
   "execution_count": null,
   "metadata": {
    "collapsed": true
   },
   "outputs": [],
   "source": []
  }
 ],
 "metadata": {
  "anaconda-cloud": {},
  "kernelspec": {
   "display_name": "Python [default]",
   "language": "python",
   "name": "python3"
  },
  "language_info": {
   "codemirror_mode": {
    "name": "ipython",
    "version": 3
   },
   "file_extension": ".py",
   "mimetype": "text/x-python",
   "name": "python",
   "nbconvert_exporter": "python",
   "pygments_lexer": "ipython3",
   "version": "3.5.2"
  }
 },
 "nbformat": 4,
 "nbformat_minor": 0
}
