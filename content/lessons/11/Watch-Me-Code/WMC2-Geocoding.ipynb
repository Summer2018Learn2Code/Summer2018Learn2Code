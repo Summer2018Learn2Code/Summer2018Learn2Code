{
 "cells": [
  {
   "cell_type": "markdown",
   "metadata": {
    "collapsed": false
   },
   "source": [
    "# Watch Me Code 2: Geocoding \n",
    "\n",
    "- Get Lat/Long for address\n",
    "- Get city / state for zipcode\n"
   ]
  },
  {
   "cell_type": "code",
   "execution_count": 11,
   "metadata": {
    "collapsed": false
   },
   "outputs": [
    {
     "data": {
      "text/plain": [
       "{'results': [{'address_components': [{'long_name': '90210',\n",
       "     'short_name': '90210',\n",
       "     'types': ['postal_code']},\n",
       "    {'long_name': 'Beverly Hills',\n",
       "     'short_name': 'Beverly Hills',\n",
       "     'types': ['locality', 'political']},\n",
       "    {'long_name': 'Los Angeles County',\n",
       "     'short_name': 'Los Angeles County',\n",
       "     'types': ['administrative_area_level_2', 'political']},\n",
       "    {'long_name': 'California',\n",
       "     'short_name': 'CA',\n",
       "     'types': ['administrative_area_level_1', 'political']},\n",
       "    {'long_name': 'United States',\n",
       "     'short_name': 'US',\n",
       "     'types': ['country', 'political']}],\n",
       "   'formatted_address': 'Beverly Hills, CA 90210, USA',\n",
       "   'geometry': {'bounds': {'northeast': {'lat': 34.1354771,\n",
       "      'lng': -118.3867129},\n",
       "     'southwest': {'lat': 34.065094, 'lng': -118.4423781}},\n",
       "    'location': {'lat': 34.1030032, 'lng': -118.4104684},\n",
       "    'location_type': 'APPROXIMATE',\n",
       "    'viewport': {'northeast': {'lat': 34.1354771, 'lng': -118.3867129},\n",
       "     'southwest': {'lat': 34.065094, 'lng': -118.4423781}}},\n",
       "   'place_id': 'ChIJ7xfS-zW8woARXNkAJzX5Hs8',\n",
       "   'types': ['postal_code']}],\n",
       " 'status': 'OK'}"
      ]
     },
     "execution_count": 11,
     "metadata": {},
     "output_type": "execute_result"
    }
   ],
   "source": [
    "import requests\n",
    "import json\n",
    "\n",
    "url = 'http://maps.googleapis.com/maps/api/geocode/json?address=90210'\n",
    "response = requests.get(url)\n",
    "geodata = response.json()\n",
    "geodata"
   ]
  },
  {
   "cell_type": "code",
   "execution_count": 5,
   "metadata": {
    "collapsed": false
   },
   "outputs": [
    {
     "data": {
      "text/plain": [
       "'Beverly Hills, CA 90210, USA'"
      ]
     },
     "execution_count": 5,
     "metadata": {},
     "output_type": "execute_result"
    }
   ],
   "source": [
    "import requests\n",
    "import json\n",
    "\n",
    "url = 'http://maps.googleapis.com/maps/api/geocode/json?address=90210'\n",
    "response = requests.get(url)\n",
    "geodata = response.json()\n",
    "address = geodata['results'][0]['formatted_address']\n",
    "address"
   ]
  },
  {
   "cell_type": "code",
   "execution_count": 2,
   "metadata": {
    "collapsed": false
   },
   "outputs": [
    {
     "name": "stdout",
     "output_type": "stream",
     "text": [
      "Enter Zip Code13244\n"
     ]
    },
    {
     "data": {
      "text/plain": [
       "'Syracuse, NY 13244, USA'"
      ]
     },
     "execution_count": 2,
     "metadata": {},
     "output_type": "execute_result"
    }
   ],
   "source": [
    "import requests\n",
    "import json\n",
    "\n",
    "url = 'http://maps.googleapis.com/maps/api/geocode/json'\n",
    "params = { 'address' : input(\"Enter Zip Code\") }\n",
    "response = requests.get(url, params = params)\n",
    "geodata = response.json()\n",
    "address = geodata['results'][0]['formatted_address']\n",
    "address"
   ]
  },
  {
   "cell_type": "code",
   "execution_count": 3,
   "metadata": {
    "collapsed": false
   },
   "outputs": [
    {
     "name": "stdout",
     "output_type": "stream",
     "text": [
      "13244\n",
      "Syracuse\n",
      "Onondaga County\n",
      "NY\n",
      "US\n"
     ]
    }
   ],
   "source": [
    "for address in geodata['results'][0]['address_components']:\n",
    "    print(address['short_name'])"
   ]
  },
  {
   "cell_type": "code",
   "execution_count": 4,
   "metadata": {
    "collapsed": false
   },
   "outputs": [
    {
     "data": {
      "text/plain": [
       "{'results': [{'address_components': [{'long_name': '13244',\n",
       "     'short_name': '13244',\n",
       "     'types': ['postal_code']},\n",
       "    {'long_name': 'Syracuse',\n",
       "     'short_name': 'Syracuse',\n",
       "     'types': ['locality', 'political']},\n",
       "    {'long_name': 'Onondaga County',\n",
       "     'short_name': 'Onondaga County',\n",
       "     'types': ['administrative_area_level_2', 'political']},\n",
       "    {'long_name': 'New York',\n",
       "     'short_name': 'NY',\n",
       "     'types': ['administrative_area_level_1', 'political']},\n",
       "    {'long_name': 'United States',\n",
       "     'short_name': 'US',\n",
       "     'types': ['country', 'political']}],\n",
       "   'formatted_address': 'Syracuse, NY 13244, USA',\n",
       "   'geometry': {'bounds': {'northeast': {'lat': 43.049482,\n",
       "      'lng': -76.14264709999999},\n",
       "     'southwest': {'lat': 43.047424, 'lng': -76.14392509999999}},\n",
       "    'location': {'lat': 43.04782609999999, 'lng': -76.1432291},\n",
       "    'location_type': 'APPROXIMATE',\n",
       "    'viewport': {'northeast': {'lat': 43.0498019802915,\n",
       "      'lng': -76.14193711970847},\n",
       "     'southwest': {'lat': 43.0471040197085, 'lng': -76.1446350802915}}},\n",
       "   'place_id': 'ChIJCwhR9J_z2YkR_gb7vHTA2jg',\n",
       "   'types': ['postal_code']}],\n",
       " 'status': 'OK'}"
      ]
     },
     "execution_count": 4,
     "metadata": {},
     "output_type": "execute_result"
    }
   ],
   "source": [
    "geodata"
   ]
  },
  {
   "cell_type": "code",
   "execution_count": null,
   "metadata": {
    "collapsed": true
   },
   "outputs": [],
   "source": []
  }
 ],
 "metadata": {
  "anaconda-cloud": {},
  "kernelspec": {
   "display_name": "Python [default]",
   "language": "python",
   "name": "python3"
  },
  "language_info": {
   "codemirror_mode": {
    "name": "ipython",
    "version": 3
   },
   "file_extension": ".py",
   "mimetype": "text/x-python",
   "name": "python",
   "nbconvert_exporter": "python",
   "pygments_lexer": "ipython3",
   "version": "3.5.2"
  }
 },
 "nbformat": 4,
 "nbformat_minor": 0
}
