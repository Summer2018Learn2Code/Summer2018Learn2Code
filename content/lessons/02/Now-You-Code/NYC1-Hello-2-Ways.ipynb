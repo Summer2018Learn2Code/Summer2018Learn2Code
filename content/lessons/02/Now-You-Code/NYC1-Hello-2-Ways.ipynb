{
 "cells": [
  {
   "cell_type": "markdown",
   "metadata": {},
   "source": [
    "# Now You Code 1: Hello 2 Ways\n",
    "\n",
    "Write a Python program which prompts you to input your first name and then your last name. It should then print your name two ways First Last and Last, First. For example:\n",
    "\n",
    "```\n",
    "What is your first name? Michael\n",
    "What is your last name? Fudge\n",
    "Hello, Michael Fudge\n",
    "Or should I say Fudge, Michael\n",
    "```\n"
   ]
  },
  {
   "cell_type": "markdown",
   "metadata": {
    "collapsed": true
   },
   "source": [
    "## Step 1: Problem Analysis\n",
    "\n",
    "Inputs: First name, Last name\n",
    "\n",
    "Outputs: \n",
    "\n",
    "Two combinations of variables\n",
    "first name and last name\n",
    "last name and first name\n",
    "\n",
    "Algorithm (Steps in Program):\n",
    "Prompt user for input (first name)\n",
    "Prompt user for input (last name)\n",
    "Print variables: first name and last name\n",
    "Print variables: last name and first name\n"
   ]
  },
  {
   "cell_type": "code",
   "execution_count": 1,
   "metadata": {},
   "outputs": [
    {
     "name": "stdout",
     "output_type": "stream",
     "text": [
      "[What is your first name?]Angela\n",
      "[What is your last name?]Rieks\n",
      "Hello Angela Rieks\n",
      "Or should I say Rieks Angela\n"
     ]
    }
   ],
   "source": [
    "# Step 2: Write code here\n",
    "first_name = input(\"[What is your first name?]\")\n",
    "last_name = input(\"[What is your last name?]\")\n",
    "print(\"Hello\", first_name, last_name)\n",
    "print(\"Or should I say\",last_name,first_name)"
   ]
  },
  {
   "cell_type": "markdown",
   "metadata": {},
   "source": [
    "## Step 3: Questions\n",
    "\n",
    "1. What happens when don't follow the instructions and enter your first name as your last name? Does the code still run? Why?\n",
    "2. What type of error it when the program runs but does not handle bad input?\n",
    "3. Is there anything you can do in code to correct this type of error? Why or why not?"
   ]
  },
  {
   "cell_type": "markdown",
   "metadata": {},
   "source": [
    "## Reminder of Evaluation Criteria\n",
    "\n",
    "1. What the problem attempted (analysis, code, and answered questions) ?\n",
    "2. What the problem analysis thought out? (does the program match the plan?)\n",
    "3. Does the code execute without syntax error?\n",
    "4. Does the code solve the intended problem?\n",
    "5. Is the code well written? (easy to understand, modular, and self-documenting, handles errors)\n"
   ]
  },
  {
   "cell_type": "code",
   "execution_count": null,
   "metadata": {
    "collapsed": true
   },
   "outputs": [],
   "source": []
  }
 ],
 "metadata": {
  "anaconda-cloud": {},
  "kernelspec": {
   "display_name": "Python 3",
   "language": "python",
   "name": "python3"
  },
  "language_info": {
   "codemirror_mode": {
    "name": "ipython",
    "version": 3
   },
   "file_extension": ".py",
   "mimetype": "text/x-python",
   "name": "python",
   "nbconvert_exporter": "python",
   "pygments_lexer": "ipython3",
   "version": "3.6.3"
  }
 },
 "nbformat": 4,
 "nbformat_minor": 1
}
