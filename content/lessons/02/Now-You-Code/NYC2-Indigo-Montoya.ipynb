{
 "cells": [
  {
   "cell_type": "markdown",
   "metadata": {},
   "source": [
    "# Now You Code 2: Indigo Montoya\n",
    "\n",
    "[The Pricess Bride](https://www.rottentomatoes.com/m/princess_bride/) is an adventure film from the 80's, a true cult classic. One of the many notable scenes involves a character Indigo Montoya who explains his character's motivation for revenge through the catch-phase:\n",
    "\n",
    "\"Hello. My name is Indigo Montoya. You killed my father. Prepare to die!\"\n",
    "\n",
    "You can watch the clip here: [https://www.youtube.com/watch?v=YY4cnMmo9qw](https://www.youtube.com/watch?v=YY4cnMmo9qw)\n",
    "\n",
    "Write a program in Python which asks the user to enter **your name**, a **relative** and an **past-tense action**. For example if you enter \"Indigo Montoya\", \"Father\" and \"killed\", the program will then output:\n",
    "\n",
    "\"Hello. My name is Indigo Montoya. You killed my father. Prepare to die!\"\n",
    "\n",
    "Or you could input \"Mike Fudge\", \"Uncle\" and \"Tickled\" to get:\n",
    "\n",
    "\"Hello. My name is Mike Fudge. You Tickled my Uncle. Prepare to die!\"\n"
   ]
  },
  {
   "cell_type": "markdown",
   "metadata": {
    "collapsed": true
   },
   "source": [
    "## Step 1: Problem Analysis\n",
    "\n",
    "Inputs: your name, relative, and a past-tense action.\n",
    "\n",
    "Outputs: My name is (your name), you (past-tense action) my (relative). Prepare to die!\n",
    "\n",
    "Algorithm (Steps in Program): input your name variable 2 - input relative variable 3 - input past-tense action variable 4 - print output telling the story with provided input variables"
   ]
  },
  {
   "cell_type": "code",
   "execution_count": 2,
   "metadata": {},
   "outputs": [
    {
     "name": "stdout",
     "output_type": "stream",
     "text": [
      "What is your first name?Steve\n",
      "What is the name of a relative?Aunt\n",
      "What is your past-tense action?Killed\n",
      "Hello. My name is Steve. You Killed my Aunt. Prepare to die!\n"
     ]
    }
   ],
   "source": [
    "# Step 2: Write code here\n",
    "first_name = input(\"What is your first name?\" )\n",
    "relative_name = input(\"What is the name of a relative?\" )\n",
    "past_action = input(\"What is your past-tense action?\" )\n",
    "\n",
    "print(\"Hello. My name is\", first_name + \". You\" , past_action , \"my\" , relative_name + \". Prepare to die!\")"
   ]
  },
  {
   "cell_type": "markdown",
   "metadata": {},
   "source": [
    "## Step 3: Questions\n",
    "\n",
    "1. What happens when neglect the instructions and enter a past-tense action instead of a name? Does the code still run? Why? \n",
    "\n",
    "Yes, the code will still run. This is because restrictions on the input are not set for the name variable other than guiding the input with \"What is your first name\". The program does not know that the past-tense action entered is not a name.\n",
    "\n",
    "\n",
    "2. What type of error it when the program runs but does not handle bad input?\n",
    "\n",
    "Incorrect code prior to the print statement could be a syntax error while if one of the inputs was a int and one input letters one can get a value errors. \n",
    "\n",
    "\n",
    "3. Is there anything you can do in code to correct this type of error? Why or why not?\n",
    "\n",
    "If you set an int value, the input needs to be an integer. This may require reassessing what we are asking to be inputted and how it is being documented."
   ]
  },
  {
   "cell_type": "markdown",
   "metadata": {},
   "source": [
    "## Reminder of Evaluation Criteria\n",
    "\n",
    "1. What the problem attempted (analysis, code, and answered questions) ?\n",
    "2. What the problem analysis thought out? (does the program match the plan?)\n",
    "3. Does the code execute without syntax error?\n",
    "4. Does the code solve the intended problem?\n",
    "5. Is the code well written? (easy to understand, modular, and self-documenting, handles errors)\n"
   ]
  },
  {
   "cell_type": "code",
   "execution_count": null,
   "metadata": {
    "collapsed": true
   },
   "outputs": [],
   "source": []
  }
 ],
 "metadata": {
  "anaconda-cloud": {},
  "kernelspec": {
   "display_name": "Python 3",
   "language": "python",
   "name": "python3"
  },
  "language_info": {
   "codemirror_mode": {
    "name": "ipython",
    "version": 3
   },
   "file_extension": ".py",
   "mimetype": "text/x-python",
   "name": "python",
   "nbconvert_exporter": "python",
   "pygments_lexer": "ipython3",
   "version": "3.6.3"
  }
 },
 "nbformat": 4,
 "nbformat_minor": 1
}
