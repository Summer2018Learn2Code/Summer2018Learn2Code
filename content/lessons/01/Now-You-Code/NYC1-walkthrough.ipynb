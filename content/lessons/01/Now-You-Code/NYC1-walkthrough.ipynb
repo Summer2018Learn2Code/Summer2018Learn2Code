{
 "cells": [
  {
   "cell_type": "markdown",
   "metadata": {},
   "source": [
    "# Now You Code 1: Check Divider\n",
    "\n",
    "This program will help you divide a dinner check evenly among the guests. You enter the number of diners and the amount of the check then the program will output the amount each diner should contribute to the check. \n",
    "\n",
    "Example run:\n",
    "\n",
    "```\n",
    "Python Check Divider\n",
    "How many people are dining? 4\n",
    "What is the total amount of the check? 60\n",
    "Each person should contribute 15.0 dollars.\n",
    "```"
   ]
  },
  {
   "cell_type": "markdown",
   "metadata": {
    "collapsed": true
   },
   "source": [
    "## Step 1: Problem Analysis\n",
    "\n",
    "Inputs:\n",
    "number of people dining entered as an integer\n",
    "Total dining cost \n",
    "\n",
    "Outputs:\n",
    "Amount each person has to pay\n",
    "\n",
    "Algorithm (Steps in Program):\n",
    "\n",
    "input the number of people dining\n",
    "input the total amount\n",
    "contribution = total amount/people dining\n",
    "print contribution"
   ]
  },
  {
   "cell_type": "code",
   "execution_count": 1,
   "metadata": {},
   "outputs": [
    {
     "name": "stdout",
     "output_type": "stream",
     "text": [
      "Python Check Divider\n",
      "How many people are dining? 10\n",
      "What is the total amount of the check? 1000.00\n",
      "Each person should contribute 100.0 dollars.\n"
     ]
    }
   ],
   "source": [
    "# Step 2: write code here\n",
    "print(\"Python Check Divider\")\n",
    "people = int(input(\"How many people are dining? \"))\n",
    "check_total = float(input(\"What is the total amount of the check? \"))\n",
    "contribution = check_total / people\n",
    "print(\"Each person should contribute\", contribution, \"dollars.\")"
   ]
  },
  {
   "cell_type": "markdown",
   "metadata": {
    "collapsed": true
   },
   "source": [
    "## Step 3: Questions\n",
    "\n",
    "1. What happens when you enter `TWO` instead of `2` for the number of people dining? or $60 as the amount of the check, instead of 60?\n",
    "2. Why do you think this happens?\n",
    "3. Explain what happens when you enter `0.5` for the number of people dining?\n"
   ]
  },
  {
   "cell_type": "markdown",
   "metadata": {},
   "source": [
    "## Reminder of Evaluation Criteria\n",
    "\n",
    "1. What the problem attempted (analysis, code, and answered questions) ?\n",
    "2. What the problem analysis thought out? (does the program match the plan?)\n",
    "3. Does the code execute without syntax error?\n",
    "4. Does the code solve the intended problem?\n",
    "5. Is the code well written? (easy to understand, modular, and self-documenting, handles errors)\n"
   ]
  },
  {
   "cell_type": "code",
   "execution_count": null,
   "metadata": {
    "collapsed": true
   },
   "outputs": [],
   "source": []
  }
 ],
 "metadata": {
  "anaconda-cloud": {},
  "kernelspec": {
   "display_name": "Python 3",
   "language": "python",
   "name": "python3"
  },
  "language_info": {
   "codemirror_mode": {
    "name": "ipython",
    "version": 3
   },
   "file_extension": ".py",
   "mimetype": "text/x-python",
   "name": "python",
   "nbconvert_exporter": "python",
   "pygments_lexer": "ipython3",
   "version": "3.6.3"
  }
 },
 "nbformat": 4,
 "nbformat_minor": 1
}
