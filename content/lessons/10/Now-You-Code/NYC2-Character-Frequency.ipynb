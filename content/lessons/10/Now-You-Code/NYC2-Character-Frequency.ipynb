{
 "cells": [
  {
   "cell_type": "markdown",
   "metadata": {},
   "source": [
    "# Now You Code 2: Character Frequency\n",
    "\n",
    "Write a program to input some text (a word or a sentence). The program should create a histogram of each character in the text and it's frequency. For example the text `apple` has a frequency `a:1, p:2, l:1, e:1`\n",
    "\n",
    "Some advice:\n",
    "\n",
    "- build a dictionary of each character where the character is the key and the value is the number of occurences of that character.\n",
    "- omit spaces, in the input text, and they cannot be represented as dictionary keys\n",
    "- convert the input text to lower case, so that `A` and `a` are counted as the same character.\n",
    "\n",
    "After you count the characters:\n",
    "- sort the dictionary keys alphabetically, \n",
    "- print out the character distribution\n",
    "\n",
    "Example Run:\n",
    "\n",
    "```\n",
    "Enter some text: Michael is a Man from Mississppi.\n",
    ". : 1\n",
    "a : 3\n",
    "c : 1\n",
    "e : 1\n",
    "f : 1\n",
    "h : 1\n",
    "i : 5\n",
    "l : 1\n",
    "m : 4\n",
    "n : 1\n",
    "o : 1\n",
    "p : 2\n",
    "r : 1\n",
    "s : 5\n",
    "```\n"
   ]
  },
  {
   "cell_type": "markdown",
   "metadata": {
    "collapsed": true
   },
   "source": [
    "\n",
    "## Step 1: Problem Analysis\n",
    "\n",
    "**Inputs:**\n",
    "\n",
    "* user entered text of any length\n",
    "\n",
    "**Outputs:**\n",
    "\n",
    "* each character in the phrase and how many times the character was present in the user's text\n",
    "\n",
    "**Algorithm (Steps in Program):**\n",
    "\n",
    "* define a function that takes text, splits it into words and then further splits it into characters producing a sorted list of characters\n",
    "    * take user text and make a list of words stripping white space\n",
    "    * create list variable\n",
    "    * begin for loop for words in the list of words\n",
    "        * begin for loop for characters in the words in range 0 to the len of the word\n",
    "        * append the character list with the character the loop found\n",
    "            * return the list sorted\n",
    "\n",
    "* define a function to take a list of characters and create a dictionary that\n",
    "    * create dictionary variable\n",
    "    * begin for loop for characters found in the argument list (ch_list in this case)\n",
    "        * if the get of the dictionary variable with a key of the character returns the default value then add the character as a key with value 1\n",
    "        * else\n",
    "            * increment the key of characters value by 1\n",
    "    * return the dictionary\n",
    "* while True to begin loop\n",
    "\n",
    "    * allow user to enter text and convert to lowercase\n",
    "    * if the text == 'quit\":\n",
    "        * print the program is ending\n",
    "        * break the loop\n",
    "    * if the users text is empty\n",
    "        * print that they didn't enter any text\n",
    "        * continue the loop\n",
    "    * else:\n",
    "        * assign list variable with the value of calling of the characterList function with argument being the user's entered text\n",
    "        * acessing the dictionary variable with the value of calling the chListtoDict function with the argument of the list variable\n",
    "        * for loop for each characters in the dictionary\n",
    "            * print the characters key and value\n",
    "        * once the loop is done, continue the loop to allow more entries\n"
   ]
  },
  {
   "cell_type": "code",
   "execution_count": 1,
   "metadata": {},
   "outputs": [
    {
     "name": "stdout",
     "output_type": "stream",
     "text": [
      "Enter Text: Testing Text!!\n",
      "! : 2\n",
      "e : 2\n",
      "g : 1\n",
      "i : 1\n",
      "n : 1\n",
      "s : 1\n",
      "t : 4\n",
      "x : 1\n",
      "Enter Text: quit\n",
      "Ending program...\n"
     ]
    }
   ],
   "source": [
    "## Step 2: Write code here\n",
    "\n",
    "def characterList(user_text):\n",
    "    \"\"\"Take phrase, split into a group of words then list sorted characters\"\"\"\n",
    "    sorted_text = user_text.strip().split()\n",
    "    ch_list = []\n",
    "    for word in sorted_text:\n",
    "        for ch in range(0, len(word)):\n",
    "            ch_list.append(word[ch])\n",
    "    return sorted(ch_list)\n",
    "\n",
    "def chListtoDict(ch_list): #alternative approach\n",
    "    \"\"\"Take list of characters, assign as key in a dictionary with a value of appearance.\"\"\"\n",
    "    ch_totals = {}\n",
    "    for word in ch_list:\n",
    "        for ch in word:\n",
    "            ch_totals[ch] = ch_totals.get(ch, 0) + 1\n",
    "    return ch_totals\n",
    "            \n",
    "\n",
    "while True:\n",
    "    user_text = input(\"Enter Text: \").lower()\n",
    "    if 'quit' in user_text:\n",
    "        print(\"Ending program...\")\n",
    "        break\n",
    "    if user_text == '':\n",
    "        print(\"You did not enter text. Try again or type quit!\")\n",
    "        continue\n",
    "    else:\n",
    "        ch_list = characterList(user_text)\n",
    "        ch_totals = chListtoDict(ch_list)\n",
    "        for character in ch_totals:\n",
    "            print(\"%s : %d\" % (character, ch_totals[character]))\n",
    "        continue"
   ]
  },
  {
   "cell_type": "markdown",
   "metadata": {},
   "source": [
    "## Step 3: Questions\n",
    "\n",
    "1. Explain how you handled the situation where the dictionary key does not exist? (For instance the first time you encounter a character?)\n",
    "2. What happens when you just press `ENTER` as opposed to entering some actual text? What can be done about this to provide better feedback.\n",
    "3. This program is similar to the popular word cloud generators [http://www.wordclouds.com/] you can find on the Web. Describe how this program could be modified to count words instead of characters.\n",
    "\n"
   ]
  },
  {
   "cell_type": "markdown",
   "metadata": {},
   "source": [
    "## Reminder of Evaluation Criteria\n",
    "\n",
    "1. What the problem attempted (analysis, code, and answered questions) ?\n",
    "2. What the problem analysis thought out? (does the program match the plan?)\n",
    "3. Does the code execute without syntax error?\n",
    "4. Does the code solve the intended problem?\n",
    "5. Is the code well written? (easy to understand, modular, and self-documenting, handles errors)\n"
   ]
  },
  {
   "cell_type": "code",
   "execution_count": null,
   "metadata": {
    "collapsed": true
   },
   "outputs": [],
   "source": []
  }
 ],
 "metadata": {
  "anaconda-cloud": {},
  "kernelspec": {
   "display_name": "Python 3",
   "language": "python",
   "name": "python3"
  },
  "language_info": {
   "codemirror_mode": {
    "name": "ipython",
    "version": 3
   },
   "file_extension": ".py",
   "mimetype": "text/x-python",
   "name": "python",
   "nbconvert_exporter": "python",
   "pygments_lexer": "ipython3",
   "version": "3.6.3"
  }
 },
 "nbformat": 4,
 "nbformat_minor": 1
}
