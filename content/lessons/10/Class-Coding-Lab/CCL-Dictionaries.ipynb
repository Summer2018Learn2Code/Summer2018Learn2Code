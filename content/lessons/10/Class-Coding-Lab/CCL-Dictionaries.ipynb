{
 "cells": [
  {
   "cell_type": "markdown",
   "metadata": {},
   "source": [
    "# In-Class Coding Lab: Dictionaries\n",
    "\n",
    "The goals of this lab are to help you understand:\n",
    "\n",
    " - How to use Python Dictionaries\n",
    " - Basic Dictionary methods\n",
    " - Dealing with Key errors\n",
    " - How to use lists of Dictionaries\n",
    " - How to encode / decode python dictionaries to json.\n",
    " \n",
    "## Dictionaries are Key-Value Pairs.\n",
    "\n",
    "The **key** is unique for each Python dictionary object and is always of type `str`. The **value** stored under the key can be any Python type. \n",
    "\n",
    "This example creates a `stock` variable with two keys `symbol` and `name`. We access the dictionary key with `['keyname']`."
   ]
  },
  {
   "cell_type": "code",
   "execution_count": 1,
   "metadata": {},
   "outputs": [
    {
     "name": "stdout",
     "output_type": "stream",
     "text": [
      "{'symbol': 'AAPL', 'name': 'Apple Computer'}\n",
      "AAPL\n",
      "Apple Computer\n"
     ]
    }
   ],
   "source": [
    "stock = {} # empty dictionary\n",
    "stock['symbol'] = 'AAPL'\n",
    "stock['name'] = 'Apple Computer'\n",
    "print(stock)\n",
    "print(stock['symbol'])\n",
    "print(stock['name'])"
   ]
  },
  {
   "cell_type": "markdown",
   "metadata": {},
   "source": [
    "While Python lists are best suited for storing multiple values of the same type ( like grades ), Python dictionaries are best suited for storing hybrid values, or values with multiple attributes.\n",
    "\n",
    "In the example above we created an empty dictionary `{}` then assigned keys `symbol` and `name` as part of individual assignment statements.\n",
    "\n",
    "We can also build the dictionary in a single statement, like this:"
   ]
  },
  {
   "cell_type": "code",
   "execution_count": 2,
   "metadata": {},
   "outputs": [
    {
     "name": "stdout",
     "output_type": "stream",
     "text": [
      "{'name': 'Apple Computer', 'symbol': 'AAPL', 'value': 125.6}\n",
      "Apple Computer (AAPL) has a value of $125.60\n"
     ]
    }
   ],
   "source": [
    "stock = { 'name' : 'Apple Computer', 'symbol' : 'AAPL', 'value' : 125.6 }\n",
    "print(stock)\n",
    "print(\"%s (%s) has a value of $%.2f\" %(stock['name'], stock['symbol'], stock['value']))"
   ]
  },
  {
   "cell_type": "markdown",
   "metadata": {},
   "source": [
    "## Dictionaries are mutable\n",
    "\n",
    "This means we can change their value. We can add and remove keys and update the value of keys. This makes dictionaries quite useful for storing  data."
   ]
  },
  {
   "cell_type": "code",
   "execution_count": 3,
   "metadata": {},
   "outputs": [
    {
     "name": "stdout",
     "output_type": "stream",
     "text": [
      "Before changes {'name': 'Apple Computer', 'symbol': 'AAPL', 'value': 125.6}\n",
      "After change {'name': 'Apple Computer', 'symbol': 'AAPL', 'value': 126.25, 'low': 119.85, 'high': 127.0}\n"
     ]
    }
   ],
   "source": [
    "# let's add 2 new keys\n",
    "print(\"Before changes\", stock)\n",
    "stock['low'] = 119.85\n",
    "stock['high'] = 127.0\n",
    "\n",
    "# and update the value key\n",
    "stock['value'] = 126.25\n",
    "print(\"After change\", stock)\n"
   ]
  },
  {
   "cell_type": "markdown",
   "metadata": {},
   "source": [
    "## Now you Try It!\n",
    "\n",
    "Create a python dictionary called `car` with the following keys `make`, `model` and `price`. Set appropriate values and print out the dictionary.\n"
   ]
  },
  {
   "cell_type": "code",
   "execution_count": 4,
   "metadata": {},
   "outputs": [
    {
     "name": "stdout",
     "output_type": "stream",
     "text": [
      "{'make': 'Honda', 'model': 'Accord', 'price': '$28,000'}\n",
      "dict_keys(['make', 'model', 'price'])\n"
     ]
    }
   ],
   "source": [
    "# TODO: Write code here \n",
    "\n",
    "car = {}\n",
    "car['make'] = 'Honda'\n",
    "car['model'] = 'Accord'\n",
    "car['price'] = '$28,000'\n",
    "print(car)\n",
    "print(car.keys())"
   ]
  },
  {
   "cell_type": "markdown",
   "metadata": {},
   "source": [
    "## What Happens when the key is not there?\n",
    "\n",
    "Let's go back to our stock example. What happens when we try to read a key not present in the dictionary? \n",
    "\n",
    "The answer is that Python will report a `KeyError` "
   ]
  },
  {
   "cell_type": "code",
   "execution_count": 5,
   "metadata": {},
   "outputs": [
    {
     "ename": "KeyError",
     "evalue": "'change'",
     "output_type": "error",
     "traceback": [
      "\u001b[1;31m---------------------------------------------------------------------------\u001b[0m",
      "\u001b[1;31mKeyError\u001b[0m                                  Traceback (most recent call last)",
      "\u001b[1;32m<ipython-input-5-28c6e1db7ee9>\u001b[0m in \u001b[0;36m<module>\u001b[1;34m()\u001b[0m\n\u001b[1;32m----> 1\u001b[1;33m \u001b[0mprint\u001b[0m\u001b[1;33m(\u001b[0m \u001b[0mstock\u001b[0m\u001b[1;33m[\u001b[0m\u001b[1;34m'change'\u001b[0m\u001b[1;33m]\u001b[0m \u001b[1;33m)\u001b[0m\u001b[1;33m\u001b[0m\u001b[0m\n\u001b[0m",
      "\u001b[1;31mKeyError\u001b[0m: 'change'"
     ]
    }
   ],
   "source": [
    "print( stock['change'] )"
   ]
  },
  {
   "cell_type": "markdown",
   "metadata": {},
   "source": [
    "No worries. We know how to handle run-time errors in Python... use `try except` !!!"
   ]
  },
  {
   "cell_type": "code",
   "execution_count": 6,
   "metadata": {},
   "outputs": [
    {
     "name": "stdout",
     "output_type": "stream",
     "text": [
      "The key 'change' does not exist!\n"
     ]
    }
   ],
   "source": [
    "try:\n",
    "    print( stock['change'] )\n",
    "except KeyError:\n",
    "    print(\"The key 'change' does not exist!\")"
   ]
  },
  {
   "cell_type": "markdown",
   "metadata": {},
   "source": [
    "## Avoiding KeyError\n",
    "\n",
    "You can avoid `KeyError` using the `get()` dictionary method. This method will return a default value when the key does not exist.\n",
    "\n",
    "The first argument to `get()` is the key to get, the second argument is the value to return when the key does not exist. "
   ]
  },
  {
   "cell_type": "code",
   "execution_count": 7,
   "metadata": {},
   "outputs": [
    {
     "name": "stdout",
     "output_type": "stream",
     "text": [
      "Apple Computer\n",
      "no key\n"
     ]
    }
   ],
   "source": [
    "print(stock.get('name','no key'))\n",
    "print(stock.get('change', 'no key'))"
   ]
  },
  {
   "cell_type": "markdown",
   "metadata": {},
   "source": [
    "## Now You try It!\n",
    "\n",
    "Write a program to ask the user to input a key for the `stock` variable. \n",
    "\n",
    "If the key exists, print the value, otherwise print 'Key does not exist'"
   ]
  },
  {
   "cell_type": "code",
   "execution_count": 8,
   "metadata": {},
   "outputs": [
    {
     "name": "stdout",
     "output_type": "stream",
     "text": [
      "Enter the key you'd like: name\n",
      "Apple Computer\n"
     ]
    }
   ],
   "source": [
    "# TODO: write code here\n",
    "\n",
    "user_key = input(\"Enter the key you'd like: \")\n",
    "print(stock.get(user_key, 'no key'))"
   ]
  },
  {
   "cell_type": "markdown",
   "metadata": {},
   "source": [
    "## Enumerating keys and values\n",
    "\n",
    "You can enumerate keys and values easily, using the `keys()` and `values()` methods:"
   ]
  },
  {
   "cell_type": "code",
   "execution_count": 10,
   "metadata": {},
   "outputs": [
    {
     "name": "stdout",
     "output_type": "stream",
     "text": [
      "KEYS\n",
      "name\n",
      "symbol\n",
      "value\n",
      "low\n",
      "high\n",
      "VALUES\n",
      "Apple Computer\n",
      "AAPL\n",
      "126.25\n",
      "119.85\n",
      "127.0\n",
      "{'name': 'Apple Computer', 'symbol': 'AAPL', 'value': 126.25, 'low': 119.85, 'high': 127.0}\n"
     ]
    }
   ],
   "source": [
    "print(\"KEYS\")\n",
    "for k in stock.keys():\n",
    "    print(k)\n",
    "    \n",
    "print(\"VALUES\")\n",
    "for v in stock.values():\n",
    "    print(v)\n",
    "print(stock)"
   ]
  },
  {
   "cell_type": "markdown",
   "metadata": {},
   "source": [
    "## List of Dictionary\n",
    "\n",
    "The List of Dictionary object in Python allows us to create useful in-memory data structures. It's one of the features of Python that sets it apart from other programming languages. \n",
    "\n",
    "Let's use it to build a portfolio (list of 4 stocks)."
   ]
  },
  {
   "cell_type": "code",
   "execution_count": 11,
   "metadata": {},
   "outputs": [
    {
     "name": "stdout",
     "output_type": "stream",
     "text": [
      "first stock {'symbol': 'AAPL', 'name': 'Apple Computer Corp.', 'value': 136.66}\n",
      "name of first stock Apple Computer Corp.\n",
      "last stock {'symbol': 'TSLA', 'name': 'Tesla, Inc.', 'value': 257.0}\n",
      "value of 2nd stock 845.24\n"
     ]
    }
   ],
   "source": [
    "portfolio = [\n",
    "    { 'symbol' : 'AAPL', 'name' : 'Apple Computer Corp.', 'value': 136.66 },\n",
    "    { 'symbol' : 'AMZN', 'name' : 'Amazon.com, Inc.', 'value': 845.24 },\n",
    "    { 'symbol' : 'MSFT', 'name' : 'Microsoft Corporation', 'value': 64.62 },\n",
    "    { 'symbol' : 'TSLA', 'name' : 'Tesla, Inc.', 'value': 257.00 }    \n",
    "]\n",
    "\n",
    "print(\"first stock\", portfolio[0])           \n",
    "print(\"name of first stock\", portfolio[0]['name'])   \n",
    "print(\"last stock\", portfolio[-1])          \n",
    "print(\"value of 2nd stock\",  portfolio[1]['value'])  "
   ]
  },
  {
   "cell_type": "markdown",
   "metadata": {},
   "source": [
    "## Putting It All Together\n",
    "\n",
    "Write a program to build out your personal stock portfolio.\n",
    "\n",
    "```\n",
    "1. Start with an empty list, called portfolio\n",
    "2. loop\n",
    "3.     create a new stock dictionary\n",
    "3.     input a stock symbol, or type 'QUIT' to print portfolio\n",
    "4.     if symbol equals 'QUIT' exit loop\n",
    "5.     add symbol value to stock dictionary under 'symbol' key\n",
    "6.     input stock value as float\n",
    "7.     add stock value to stock dictionary under 'value key\n",
    "8.     append stock variable to portfolio list variable\n",
    "9. time to print the portfolio: for each stock in the portfolio\n",
    "10.    print stock symbol and stock value, like this \"AAPL $136.66\"\n",
    "```"
   ]
  },
  {
   "cell_type": "code",
   "execution_count": 12,
   "metadata": {},
   "outputs": [
    {
     "name": "stdout",
     "output_type": "stream",
     "text": [
      "Enter a new stock or type 'QUIT': test\n",
      "Enter a price of stock 'TEST': 4.0\n",
      "Enter a new stock or type 'QUIT': Apple\n",
      "Enter a price of stock 'APPLE': 5.6\n",
      "Enter a new stock or type 'QUIT': apple\n",
      "That stock already exists. Start over\n",
      "Enter a new stock or type 'QUIT': APPLE\n",
      "That stock already exists. Start over\n",
      "Enter a new stock or type 'QUIT': quit\n",
      "Your portfolio of stocks and corresponding values: \n",
      "TEST $4.00\n",
      "APPLE $5.60\n"
     ]
    }
   ],
   "source": [
    "portfolio = []\n",
    "\n",
    "while True:\n",
    "    stock = {}\n",
    "    stock_symbol = input(\"Enter a new stock or type 'QUIT': \").upper()\n",
    "    name_used = False\n",
    "    if stock_symbol == 'QUIT':\n",
    "        break\n",
    "    else:\n",
    "        for stock_name in portfolio:\n",
    "            if stock_name['symbol'] == stock_symbol:\n",
    "                print(\"That stock already exists. Start over\")  \n",
    "                name_used = True\n",
    "    if name_used == False:\n",
    "        stock['symbol'] = stock_symbol\n",
    "        try:\n",
    "            stock['value'] = float(input(\"Enter a price of stock '%s': \" % stock_symbol))\n",
    "            portfolio.append(stock)\n",
    "        except ValueError:\n",
    "            print(\"Enter number for the stock's price! Let's try this again.\")\n",
    "            continue\n",
    "if portfolio == {}: #if the portfolio is empty.\n",
    "    print(\"Your portfolio is empty. Restart.\")\n",
    "else: #otherwise, print the portfolio items\n",
    "    print(\"Your portfolio of stocks and corresponding values: \")\n",
    "    for stock in portfolio:\n",
    "        print(\"%s $%.2f\" % (stock['symbol'], stock['value']))"
   ]
  },
  {
   "cell_type": "code",
   "execution_count": 1,
   "metadata": {},
   "outputs": [
    {
     "name": "stdout",
     "output_type": "stream",
     "text": [
      "Please enter a stock symbol: \n",
      "Type 'QUIT' to view your portfolio appl\n",
      "Please enter the stock value: 20\n",
      "appl $20.00\n",
      "Please enter a stock symbol: \n",
      "Type 'QUIT' to view your portfolio rty\n",
      "Please enter the stock value: 200\n",
      "rty $200.00\n",
      "Please enter a stock symbol: \n",
      "Type 'QUIT' to view your portfolio quit\n"
     ]
    }
   ],
   "source": [
    "portfolio = []\n",
    "while True:\n",
    "    stock = {}\n",
    "    stock_symbol = input(\"Please enter a stock symbol: \\nType 'QUIT' to view your portfolio \")\n",
    "    if stock_symbol.upper() == 'QUIT':\n",
    "        break\n",
    "    else:\n",
    "        stock['symbol'] = stock_symbol\n",
    "        try:\n",
    "            stock_value = float(input(\"Please enter the stock value: \"))\n",
    "        except ValueError:\n",
    "            print(\"Please enter a number.\")\n",
    "        stock['value'] = stock_value\n",
    "        portfolio.append(stock)\n",
    "        print(stock['symbol'], \"$%.2f\" % (stock['value']))"
   ]
  },
  {
   "cell_type": "code",
   "execution_count": 2,
   "metadata": {},
   "outputs": [
    {
     "name": "stdout",
     "output_type": "stream",
     "text": [
      "Input a stock symbol or QUIT to print portfolio:appl\n",
      "Input a stock value:123\n",
      "Input a stock symbol or QUIT to print portfolio:www\n",
      "Input a stock value:145\n",
      "Input a stock symbol or QUIT to print portfolio:quit\n",
      "Input a stock value:345\n",
      "Input a stock symbol or QUIT to print portfolio:QUIT\n",
      "quit 345.0\n",
      "quit 345.0\n",
      "quit 345.0\n",
      "quit 345.0\n",
      "quit 345.0\n",
      "quit 345.0\n"
     ]
    }
   ],
   "source": [
    "portfolio = []\n",
    "\n",
    "while True:\n",
    "    user_symbol = input('Input a stock symbol or QUIT to print portfolio:')\n",
    "    if user_symbol == 'QUIT':\n",
    "        break\n",
    "    stock = {}\n",
    "    stock['symbol'] = user_symbol\n",
    "    portfolio.append(stock.copy())\n",
    "    user_value = float(input('Input a stock value:'))\n",
    "    stock['value'] = user_value\n",
    "    portfolio.append(stock.copy())\n",
    "for i in portfolio:\n",
    "    print ((stock['symbol']) , (stock['value']))"
   ]
  },
  {
   "cell_type": "code",
   "execution_count": 3,
   "metadata": {},
   "outputs": [
    {
     "name": "stdout",
     "output_type": "stream",
     "text": [
      "Enter a stock symbol, or type 'QUIT' to print portfolio: kll\n",
      "Enter stock value 123\n",
      "kll $123\n",
      "Enter a stock symbol, or type 'QUIT' to print portfolio: wewew\n",
      "Enter stock value 234\n",
      "wewew $234\n",
      "Enter a stock symbol, or type 'QUIT' to print portfolio: QUIT\n"
     ]
    }
   ],
   "source": [
    "portfolio = {}\n",
    "\n",
    "while True:\n",
    "\n",
    "    portfolio = {'symbol' : 'TSLA' , 'value' : 257.00}\n",
    "   \n",
    "        \n",
    "    new_symbol = input(\"Enter a stock symbol, or type 'QUIT' to print portfolio: \")\n",
    "    if new_symbol == 'QUIT':\n",
    "        break\n",
    "    else:\n",
    "        portfolio['symbol'] = new_symbol\n",
    "        \n",
    "    new_stock = input(\"Enter stock value \")\n",
    "    \n",
    "    portfolio['value'] = new_stock\n",
    "    \n",
    "    \n",
    "    print(\"%s $%s\" %(portfolio['symbol'], portfolio['value']))"
   ]
  },
  {
   "cell_type": "code",
   "execution_count": 4,
   "metadata": {},
   "outputs": [
    {
     "name": "stdout",
     "output_type": "stream",
     "text": [
      "Enter a stock symbol: dfd\n"
     ]
    }
   ],
   "source": [
    "portfolio = []\n",
    "while True:\n",
    "    stock = {}\n",
    "    stock = [input(\"Enter a stock symbol: \")]\n",
    "    try: \n",
    "        stock['symbol']\n",
    "        print (stock)\n",
    "    except: \n",
    "        break\n",
    "        print ('Try again.')"
   ]
  },
  {
   "cell_type": "code",
   "execution_count": 5,
   "metadata": {},
   "outputs": [
    {
     "name": "stdout",
     "output_type": "stream",
     "text": [
      "Input a stock symbol or type 'QUIT' to print portfolio: sds\n",
      "Input your stock values: 123\n"
     ]
    },
    {
     "ename": "NameError",
     "evalue": "name 'stock_dicitionary' is not defined",
     "output_type": "error",
     "traceback": [
      "\u001b[1;31m---------------------------------------------------------------------------\u001b[0m",
      "\u001b[1;31mNameError\u001b[0m                                 Traceback (most recent call last)",
      "\u001b[1;32m<ipython-input-5-f3abc8b5969e>\u001b[0m in \u001b[0;36m<module>\u001b[1;34m()\u001b[0m\n\u001b[0;32m      8\u001b[0m     \u001b[0mstock_dictionary\u001b[0m \u001b[1;33m[\u001b[0m\u001b[1;34m'symbol'\u001b[0m\u001b[1;33m]\u001b[0m \u001b[1;33m=\u001b[0m \u001b[0mstock_symbol\u001b[0m\u001b[1;33m\u001b[0m\u001b[0m\n\u001b[0;32m      9\u001b[0m     \u001b[0mstock_value\u001b[0m \u001b[1;33m=\u001b[0m \u001b[0mfloat\u001b[0m\u001b[1;33m(\u001b[0m\u001b[0minput\u001b[0m\u001b[1;33m(\u001b[0m\u001b[1;34m\"Input your stock values: \"\u001b[0m\u001b[1;33m)\u001b[0m\u001b[1;33m)\u001b[0m\u001b[1;33m\u001b[0m\u001b[0m\n\u001b[1;32m---> 10\u001b[1;33m     \u001b[0mstock_dicitionary\u001b[0m \u001b[1;33m[\u001b[0m\u001b[1;34m'value'\u001b[0m\u001b[1;33m]\u001b[0m \u001b[1;33m=\u001b[0m \u001b[0mstock_value\u001b[0m\u001b[1;33m\u001b[0m\u001b[0m\n\u001b[0m\u001b[0;32m     11\u001b[0m     \u001b[0mportfolio\u001b[0m\u001b[1;33m.\u001b[0m\u001b[0mappend\u001b[0m\u001b[1;33m(\u001b[0m\u001b[0mstock_dictionary\u001b[0m\u001b[1;33m)\u001b[0m\u001b[1;33m\u001b[0m\u001b[0m\n\u001b[0;32m     12\u001b[0m \u001b[0mprint\u001b[0m\u001b[1;33m(\u001b[0m\u001b[0mportfolio\u001b[0m\u001b[1;33m)\u001b[0m\u001b[1;33m\u001b[0m\u001b[0m\n",
      "\u001b[1;31mNameError\u001b[0m: name 'stock_dicitionary' is not defined"
     ]
    }
   ],
   "source": [
    "portfolio = []\n",
    "\n",
    "while True:\n",
    "    stock_dictionary = {}\n",
    "    stock_symbol = input(\"Input a stock symbol or type 'QUIT' to print portfolio: \")\n",
    "    if stock_symbol == 'QUIT':\n",
    "        break     \n",
    "    stock_dictionary ['symbol'] = stock_symbol\n",
    "    stock_value = float(input(\"Input your stock values: \"))\n",
    "    stock_dicitionary ['value'] = stock_value\n",
    "    portfolio.append(stock_dictionary)\n",
    "print(portfolio)"
   ]
  },
  {
   "cell_type": "code",
   "execution_count": 6,
   "metadata": {},
   "outputs": [
    {
     "name": "stdout",
     "output_type": "stream",
     "text": [
      "Enter a stock symbol or type quit:ghh\n",
      "Enter a stock symbol or type quit:123\n",
      "Enter a stock symbol or type quit:dtrrdt\n",
      "Enter a stock symbol or type quit:354\n",
      "Enter a stock symbol or type quit:quit\n"
     ]
    },
    {
     "ename": "TypeError",
     "evalue": "must be real number, not str",
     "output_type": "error",
     "traceback": [
      "\u001b[1;31m---------------------------------------------------------------------------\u001b[0m",
      "\u001b[1;31mTypeError\u001b[0m                                 Traceback (most recent call last)",
      "\u001b[1;32m<ipython-input-6-a53b9b98d9ed>\u001b[0m in \u001b[0;36m<module>\u001b[1;34m()\u001b[0m\n\u001b[0;32m      8\u001b[0m \u001b[1;33m\u001b[0m\u001b[0m\n\u001b[0;32m      9\u001b[0m \u001b[0mstock\u001b[0m \u001b[1;33m[\u001b[0m\u001b[1;34m'symbol'\u001b[0m\u001b[1;33m]\u001b[0m \u001b[1;33m=\u001b[0m  \u001b[1;34m'google'\u001b[0m\u001b[1;33m\u001b[0m\u001b[0m\n\u001b[1;32m---> 10\u001b[1;33m \u001b[0mprint\u001b[0m\u001b[1;33m(\u001b[0m\u001b[1;34m'%f'\u001b[0m \u001b[1;33m%\u001b[0m \u001b[0mstock\u001b[0m\u001b[1;33m[\u001b[0m\u001b[1;34m'symbol'\u001b[0m\u001b[1;33m]\u001b[0m\u001b[1;33m)\u001b[0m\u001b[1;33m\u001b[0m\u001b[0m\n\u001b[0m\u001b[0;32m     11\u001b[0m \u001b[1;33m\u001b[0m\u001b[0m\n\u001b[0;32m     12\u001b[0m \u001b[1;33m\u001b[0m\u001b[0m\n",
      "\u001b[1;31mTypeError\u001b[0m: must be real number, not str"
     ]
    }
   ],
   "source": [
    "portfolio = []\n",
    "\n",
    "for i in range (5):\n",
    "    stock = {}\n",
    "    stock_input = input(\"Enter a stock symbol or type quit:\")\n",
    "    if stock_input == 'quit':\n",
    "        break \n",
    "        \n",
    "stock ['symbol'] =  'google'\n",
    "print('%f' % stock['symbol'])\n",
    "\n",
    "\n",
    "stock ['value'] = 150.44 \n",
    "\n",
    "portfolio.append(stock ['symbol'], stock ['value'] )\n",
    "    \n",
    "print (\"1st stock\", portfolio [0] ['symbol'], ['value']) \n",
    "print (\"2nd stock\", portfolio [1] ['symbol'], ['value']) \n",
    "print (\"3rd stock\", portfolio [2] ['symbol'], ['value'])\n",
    "print (\"4th stock\", portfolio [3] ['symbol'], ['value'])\n",
    "print (\"5th stock\", portfolio [4] ['symbol'], ['value'])"
   ]
  },
  {
   "cell_type": "code",
   "execution_count": null,
   "metadata": {},
   "outputs": [],
   "source": []
  }
 ],
 "metadata": {
  "anaconda-cloud": {},
  "kernelspec": {
   "display_name": "Python 3",
   "language": "python",
   "name": "python3"
  },
  "language_info": {
   "codemirror_mode": {
    "name": "ipython",
    "version": 3
   },
   "file_extension": ".py",
   "mimetype": "text/x-python",
   "name": "python",
   "nbconvert_exporter": "python",
   "pygments_lexer": "ipython3",
   "version": "3.6.3"
  }
 },
 "nbformat": 4,
 "nbformat_minor": 1
}
