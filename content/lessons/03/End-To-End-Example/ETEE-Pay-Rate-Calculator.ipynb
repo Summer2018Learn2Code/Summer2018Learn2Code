{
 "cells": [
  {
   "cell_type": "markdown",
   "metadata": {},
   "source": [
    "# End-To-End Example: Pay Rate Calculator\n",
    "Write a program to prompt for inputs hourly rate and hours worked, then output total pay. Then input tax rate and output net pay.\n",
    "\n",
    "Procedure:\n",
    "\n",
    "- write to do list\n",
    "- write initial code\n",
    "- re-write code to be better"
   ]
  },
  {
   "cell_type": "code",
   "execution_count": 5,
   "metadata": {
    "collapsed": false
   },
   "outputs": [
    {
     "name": "stdout",
     "output_type": "stream",
     "text": [
      "Enter hourly rate: 10\n",
      "Enter Hours Worked: 100\n",
      "Total Pay: $1000.00\n",
      "Enter Tax Rate: 0.15\n",
      "Net Pay: $850.00\n"
     ]
    }
   ],
   "source": [
    "# TODO List:\n",
    "hourly_rate = float(input(\"Enter hourly rate: \")) # input hourly rate\n",
    "hours_worked = float(input(\"Enter Hours Worked: \")) # input hours worked\n",
    "total_pay = hourly_rate * hours_worked # calculate total pay\n",
    "print(\"Total Pay: $%.2f\" % (total_pay)) # output total pay\n",
    "tax_rate = float(input(\"Enter Tax Rate: \")) # input tax rate\n",
    "net_pay = (1- tax_rate) * total_pay # calculate net pay\n",
    "print(\"Net Pay: $%.2f\" % (net_pay)) # output net pay"
   ]
  },
  {
   "cell_type": "code",
   "execution_count": null,
   "metadata": {
    "collapsed": true
   },
   "outputs": [],
   "source": []
  }
 ],
 "metadata": {
  "anaconda-cloud": {},
  "kernelspec": {
   "display_name": "Python [default]",
   "language": "python",
   "name": "python3"
  },
  "language_info": {
   "codemirror_mode": {
    "name": "ipython",
    "version": 3
   },
   "file_extension": ".py",
   "mimetype": "text/x-python",
   "name": "python",
   "nbconvert_exporter": "python",
   "pygments_lexer": "ipython3",
   "version": "3.5.2"
  }
 },
 "nbformat": 4,
 "nbformat_minor": 1
}
