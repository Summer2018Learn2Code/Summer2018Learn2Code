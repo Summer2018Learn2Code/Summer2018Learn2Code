{
 "cells": [
  {
   "cell_type": "markdown",
   "metadata": {},
   "source": [
    "# Now You Code 2: House Depot Paint Estimator\n",
    "\n",
    "The big-box hardware store *House Depot* as contracted you to write an App to estimate the amount of paint required to paint a room. Given that 1 gallon of paint covers 400 square feet, you must output the number of paint cans required to paint a rectangular room.\n",
    "\n",
    "The program should input:\n",
    "\n",
    "- the length of the room in feet, \n",
    "- the width of the room in feet,\n",
    "- the height of the room in feet\n",
    "\n",
    "The program should output:\n",
    "\n",
    "- total area to be painted ( sum of each of the 4 walls)\n",
    "- the number of gallons of paint required to paint the room.\n",
    "\n",
    "Example:\n",
    "\n",
    "```\n",
    "Enter length of room: 12\n",
    "Enter width of room: 14\n",
    "Enter height of room: 8\n",
    "Total area to be painted: 416.00\n",
    "Total gallons of paint requried: 2\n",
    "```\n",
    "\n",
    "HINT: Use the `math.ceil()` function to round your number of gallons up to the nearest whole number \n"
   ]
  },
  {
   "cell_type": "markdown",
   "metadata": {},
   "source": [
    "## Step 1: Problem Analysis\n",
    "\n",
    "Inputs:\n",
    "* length of room in feet\n",
    "* width of room in feet\n",
    "* height of room in feet\n",
    "* total nuber of coats \n",
    "\n",
    "\n",
    "Outputs:\n",
    "\n",
    "* Total area of walls to be painted\n",
    "* Number of gallon required based on coats\n",
    "\n",
    "\n",
    "\n",
    "Algorithm (Steps in Program):\n",
    "\n",
    "* Program Title\n",
    "* Input length as a float\n",
    "* Input width as a float\n",
    "* Input the number of coats\n",
    "* Output reviewing variables\n",
    "* Formula to claculate surface area\n",
    "* Output surface area\n",
    "* Set know value variable\n",
    "* Calculate paint required\n",
    "* Calculate using math.ceil to approximate\n",
    "* Output gallons needed\n",
    "\n",
    "\n",
    "\n"
   ]
  },
  {
   "cell_type": "code",
   "execution_count": 8,
   "metadata": {},
   "outputs": [
    {
     "name": "stdout",
     "output_type": "stream",
     "text": [
      "House Depot Paint Estimator Tool\n",
      "----------------------------------------\n",
      "----------------------------------------\n",
      "What is the length of the room in feet?: 100\n",
      "What is the width of the room in feet?: 100\n",
      "What is the height of the room in feet?: 100\n",
      "How many coats of paint do you require?: 2\n",
      "----------------------------------------\n",
      "You entered 100.0 feet (L), 100.0 feet (W), and 100.0 feet (H).\n",
      "You plan on applying 2 coat(s) of paint.\n",
      "----------------------------------------\n",
      "Surface area of room will be 40000.0 square feet.\n",
      "A room with walls totalling 40000.0 square feet require 200.0 gallons of paint for 2 coat(s).\n",
      "----------------------------------------\n",
      "Shopping List: You'll need to purchase 200 gallons of paint.\n"
     ]
    }
   ],
   "source": [
    "import math # you need this to use math.ceil(), LEAVE IT HERE!\n",
    "# Step 2: write code here\n",
    "\n",
    "print(\"House Depot Paint Estimator Tool\")\n",
    "print (\"-\" * 40)\n",
    "print (\"-\" * 40)\n",
    "\n",
    "room_length = float(input(\"What is the length of the room in feet?: \"))\n",
    "room_width = float(input(\"What is the width of the room in feet?: \"))\n",
    "room_height = float(input(\"What is the height of the room in feet?: \"))\n",
    "coats_paint = float(input(\"How many coats of paint do you require?: \"))\n",
    "print(\"-\" * 40)\n",
    "\n",
    "print(\"You entered\", room_length, \"feet (L),\", room_width, \"feet (W), and\", room_height, \"feet (H).\") \n",
    "print (\"You plan on applying\", int(coats_paint), \"coat(s) of paint.\")\n",
    "print(\"-\" * 40)\n",
    "\n",
    "surface_area = float(((room_length * 2) + (room_width * 2)) * room_height)\n",
    "print(\"Surface area of room will be\", surface_area, \"square feet.\") \n",
    "\n",
    "gallons_paint = ((surface_area / 400) * coats_paint)\n",
    "required_paint = math.ceil(gallons_paint)\n",
    "print(\"A room with walls totalling\", surface_area, \"square feet require\", gallons_paint, \"gallons of paint for\", int(coats_paint), \"coat(s).\")\n",
    "print(\"-\" * 40)\n",
    "\n",
    "print(\"Shopping List: You'll need to purchase\", required_paint, \"gallons of paint.\")\n"
   ]
  },
  {
   "cell_type": "markdown",
   "metadata": {},
   "source": [
    "## Step 3: Questions\n",
    "\n",
    "1. Why does the program still run when you enter a negative number for length?\n",
    "2. Does the output make sense when you enter a negative length? Why type of error is this?\n",
    "3. Why do we use `math.ceil()` in this program? In other words are you allowed to buy 3.75 gallons of paint?\n"
   ]
  },
  {
   "cell_type": "markdown",
   "metadata": {},
   "source": [
    "## Reminder of Evaluation Criteria\n",
    "\n",
    "1. What the problem attempted (analysis, code, and answered questions) ?\n",
    "2. What the problem analysis thought out? (does the program match the plan?)\n",
    "3. Does the code execute without syntax error?\n",
    "4. Does the code solve the intended problem?\n",
    "5. Is the code well written? (easy to understand, modular, and self-documenting, handles errors)\n"
   ]
  },
  {
   "cell_type": "code",
   "execution_count": null,
   "metadata": {
    "collapsed": true
   },
   "outputs": [],
   "source": []
  }
 ],
 "metadata": {
  "anaconda-cloud": {},
  "kernelspec": {
   "display_name": "Python 3",
   "language": "python",
   "name": "python3"
  },
  "language_info": {
   "codemirror_mode": {
    "name": "ipython",
    "version": 3
   },
   "file_extension": ".py",
   "mimetype": "text/x-python",
   "name": "python",
   "nbconvert_exporter": "python",
   "pygments_lexer": "ipython3",
   "version": "3.6.3"
  }
 },
 "nbformat": 4,
 "nbformat_minor": 1
}
