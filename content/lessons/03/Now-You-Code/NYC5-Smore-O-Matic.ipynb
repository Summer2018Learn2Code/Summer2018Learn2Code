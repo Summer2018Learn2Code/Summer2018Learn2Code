{
 "cells": [
  {
   "cell_type": "markdown",
   "metadata": {},
   "source": [
    "# Now You Code 5: Smore O' Matic\n",
    "\n",
    "A smore https://en.wikipedia.org/wiki/S%27more is a popular campfire treat consisting of marshmellows, chocolate bars, and graham crackers. \n",
    "\n",
    "- Each smore requires 1 marshmallow. There are 60 marshmallows in a bag.\n",
    "- Each smore requires 1 graham cracker square. There are 32 squares in a box of graham crackers.\n",
    "- Each smore requires 1 section of chocolate. There are 24 sections of chocolate in package. \n",
    "\n",
    "So with 1 bag of marshmallows, 1 box of graham crackers, an 1 package of chocolate you can only make 24 smores (and you'll have 8 leftover crackers and 36 marshmallows).\n",
    "\n",
    "Write a program which inputs the costs of the 1 bag of marshmallows, 1 box of graham crackers, an 1 package of chocolate, then calculates total cost and cost per smore.\n",
    "\n",
    "Example:\n",
    "\n",
    "```\n",
    "Cost-per-smore calculator:\n",
    "\n",
    "Input the cost of your 1 bag of marshmallows: 2.79\n",
    "Input the cost of your 1 box of graham crackers: 2.99\n",
    "Input the cost of your 1 package of chocolate: 3.49\n",
    "\n",
    "Total cost of items: 9.27\n",
    "Cost per smore: 0.39\n",
    "```"
   ]
  },
  {
   "cell_type": "markdown",
   "metadata": {},
   "source": [
    "## Step 1: Problem Analysis\n",
    "\n",
    "Inputs:\n",
    "\n",
    "* Cost of one bag of marshmallows as a float\n",
    "* Cost of one box of graham crackers as a float\n",
    "* Cost of one package of chocolate\n",
    "\n",
    "Outputs:\n",
    "\n",
    "* Values entered by user\n",
    "* Total cost of items\n",
    "* Cost per smore \n",
    "\n",
    "Algorithm (Steps in Program):\n",
    "\n",
    "\n"
   ]
  },
  {
   "cell_type": "code",
   "execution_count": 9,
   "metadata": {},
   "outputs": [
    {
     "name": "stdout",
     "output_type": "stream",
     "text": [
      "Smore Cost Calculator Tool\n",
      "----------------------------------------\n",
      "What is the cost of 1 bag of marshmallows?:1.50\n",
      "What is the cost 1 box of graham crackers?:2.00\n",
      "What is the cost 1 package of chocolate?: 5.00\n",
      "You entered 1.5 as cost of one bag of marshallows, 2.0 as cost of one box of crackers, as total costs.\n",
      "----------------------------------------\n",
      "Total cost of items: $8.50 \n",
      "Cost per smore: $0.35\n"
     ]
    }
   ],
   "source": [
    "# Step 2: write code here\n",
    "print(\"Smore Cost Calculator Tool\")\n",
    "print (\"-\" * 40)\n",
    "\n",
    "marsh = float(input(\"What is the cost of 1 bag of marshmallows?:\"))\n",
    "graham = float(input(\"What is the cost 1 box of graham crackers?:\"))\n",
    "choco = float(input(\"What is the cost 1 package of chocolate?: \"))\n",
    "\n",
    "print (\"You entered\", marsh, \"as cost of one bag of marshallows,\", graham, \"as cost of one box of crackers,\", \"as total costs.\" ) \n",
    "      \n",
    "\n",
    "\n",
    "total = marsh + graham + choco\n",
    "\n",
    "print (\"-\" * 40)\n",
    "\n",
    "cost_per = total /24 # you can only make 24 smores.\n",
    "print(\"Total cost of items: $%.2f \" % total)\n",
    "print(\"Cost per smore: $%0.2f\" % cost_per)"
   ]
  },
  {
   "cell_type": "markdown",
   "metadata": {},
   "source": [
    "## Step 3: Questions\n",
    "\n",
    "1. Which product is wasted the most when making smores?\n",
    "2. Does the output make sense when you enter a negative prices ? Why type of error is this?\n",
    "3. What is one way this program could be re-written to get the cost per smore lower?\n"
   ]
  },
  {
   "cell_type": "markdown",
   "metadata": {},
   "source": [
    "## Reminder of Evaluation Criteria\n",
    "\n",
    "1. What the problem attempted (analysis, code, and answered questions) ?\n",
    "2. What the problem analysis thought out? (does the program match the plan?)\n",
    "3. Does the code execute without syntax error?\n",
    "4. Does the code solve the intended problem?\n",
    "5. Is the code well written? (easy to understand, modular, and self-documenting, handles errors)\n"
   ]
  },
  {
   "cell_type": "code",
   "execution_count": 5,
   "metadata": {},
   "outputs": [
    {
     "name": "stdout",
     "output_type": "stream",
     "text": [
      "What is the cost of 1 bag of marshmallows?:2.00\n",
      "What is the cost 1 box of graham crackers?:2.00\n",
      "What is the cost 1 package of chocolate?: 2.00\n",
      "Total Cost: 6.0\n"
     ]
    }
   ],
   "source": [
    "marsh = float(input(\"What is the cost of 1 bag of marshmallows?:\"))\n",
    "graham = float(input(\"What is the cost 1 box of graham crackers?:\"))\n",
    "choco = float(input(\"What is the cost 1 package of chocolate?: \"))\n",
    "total_cost = marsh + graham + choco\n",
    "print (\"Total Cost:\", total_cost)"
   ]
  },
  {
   "cell_type": "code",
   "execution_count": null,
   "metadata": {},
   "outputs": [],
   "source": []
  }
 ],
 "metadata": {
  "anaconda-cloud": {},
  "kernelspec": {
   "display_name": "Python 3",
   "language": "python",
   "name": "python3"
  },
  "language_info": {
   "codemirror_mode": {
    "name": "ipython",
    "version": 3
   },
   "file_extension": ".py",
   "mimetype": "text/x-python",
   "name": "python",
   "nbconvert_exporter": "python",
   "pygments_lexer": "ipython3",
   "version": "3.6.3"
  }
 },
 "nbformat": 4,
 "nbformat_minor": 1
}
