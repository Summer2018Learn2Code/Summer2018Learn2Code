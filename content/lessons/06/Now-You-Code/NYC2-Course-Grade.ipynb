{
 "cells": [
  {
   "cell_type": "markdown",
   "metadata": {},
   "source": [
    "# Now You Code 2: Course Grade\n",
    "\n",
    "In a previous homework you wrote a program to calculate the final grade letter grade in IST256 when given the total points out of 600.\n",
    "\n",
    "The code appears below. Feel free to execute this code a few times in order to get a feel for how it works."
   ]
  },
  {
   "cell_type": "code",
   "execution_count": null,
   "metadata": {
    "collapsed": true
   },
   "outputs": [],
   "source": [
    "print(\"IST256 Grade Calculator\")\n",
    "points = int(input(\"Enter total points out of 600:\"))\n",
    "if points >= 570:\n",
    "    grade = \"A\"\n",
    "elif points >= 540:\n",
    "    grade = \"A-\"\n",
    "elif points >= 510:\n",
    "    grade = \"B+\"\n",
    "elif points >= 480:\n",
    "    grade = \"B\"\n",
    "elif points >= 450:\n",
    "    grade = \"B-\"\n",
    "elif points >= 420:\n",
    "    grade = \"C+\"\n",
    "elif points >= 390:\n",
    "    grade = \"C\"\n",
    "elif points >= 360:\n",
    "    grade = \"C-\"\n",
    "elif points >= 300:\n",
    "    grade = \"D\"\n",
    "else:\n",
    "    grade = \"F\"\n",
    "\n",
    "print(\"Grade:\", grade) \n"
   ]
  },
  {
   "cell_type": "markdown",
   "metadata": {},
   "source": [
    "# Write - Refactor - Test - Rewrite Approach\n",
    "\n",
    "The best way to get good at writing functions, a skill you will need to master to become a respectable programmer, is to use the **Write - Refactor - Test - Rewrite** approach. In this approch we:\n",
    "\n",
    "1. Write our code\n",
    "2. Refactor it into a function\n",
    "3. Test the function to make sure it works as expected\n",
    "4. Rewrite our code to call our new function\n",
    "\n",
    "## Step 1: Write code\n",
    "\n",
    "The program has been written for you above. Your goal is to refactor it into a function, test the function then re-write the code.\n",
    "\n",
    "## Step 2: Refactor Into a function\n",
    "\n",
    "One reason to re-factor code into a function is to simplify our code. It's easier to understand `GetGrade()` as opposed to all of those `if ..elif` statements which make up `GetGrade` itself.\n",
    "\n",
    "Now re-factor the code into a user-defined Python function. The name of the function should be `GetGrade()`. The function should take a number of points as input and return the appropriate letter grade based on those points. \n",
    "\n",
    "**NOTE:** There should not be any `print()` or `input()` statements in your function!\n"
   ]
  },
  {
   "cell_type": "code",
   "execution_count": 1,
   "metadata": {},
   "outputs": [],
   "source": [
    "## Step 2: Todo Write function defintion\n",
    "## Function: GetGrade\n",
    "## Arguments: points (eg. 540)\n",
    "## Returns: grade (A, B+ etc...)\n",
    "\n",
    "#TODO: Write function definition here\n",
    "def GetGrade(points):\n",
    "    if points >= 570:\n",
    "        grade = \"A\"\n",
    "    elif points >= 540:\n",
    "        grade = \"A-\"\n",
    "    elif points >= 510:\n",
    "        grade = \"B+\"\n",
    "    elif points >= 480:\n",
    "        grade = \"B\"\n",
    "    elif points >= 450:\n",
    "        grade = \"B-\"\n",
    "    elif points >= 420:\n",
    "        grade = \"C+\"\n",
    "    elif points >= 390:\n",
    "        grade = \"C\"\n",
    "    elif points >= 360:\n",
    "        grade = \"C-\"\n",
    "    elif points >= 300:\n",
    "        grade = \"D\"\n",
    "    else:\n",
    "        grade = \"F\"\n",
    "    return grade    "
   ]
  },
  {
   "cell_type": "markdown",
   "metadata": {},
   "source": [
    "## Step 3: Test our function\n",
    "\n",
    "With the function complete, we need to test our function. The simplest way to do that is call the function with inputs we expect and verify the output. For example:\n",
    "\n",
    "```\n",
    "WHEN point='570' We EXPECT GetGrade(points) to return A \n",
    "WHEN points='540' We EXPECT GetGrade(points) to return A- \n",
    "```\n",
    "\n",
    "The first two are written for you but you will need to write the remaining tests to tests all the cases. As a general rule, there should be one test for each kind of output (in this case A through F). You only need to test at the boundaires. No need to test every single value between 0 and 600. "
   ]
  },
  {
   "cell_type": "code",
   "execution_count": 2,
   "metadata": {},
   "outputs": [
    {
     "name": "stdout",
     "output_type": "stream",
     "text": [
      "WHEN point='570' We EXPECT GetGrade(points) to return A ACTUAL: A\n",
      "WHEN point='540' We EXPECT GetGrade(points) to return A- ACTUAL: A-\n"
     ]
    }
   ],
   "source": [
    "# Step 3: Write tests. The first two tests were written for you. You must write the rest\n",
    "\n",
    "print(\"WHEN point='570' We EXPECT GetGrade(points) to return A ACTUAL:\", GetGrade(570))\n",
    "print(\"WHEN point='540' We EXPECT GetGrade(points) to return A- ACTUAL:\", GetGrade(540))\n",
    "#todo...\n"
   ]
  },
  {
   "cell_type": "markdown",
   "metadata": {},
   "source": [
    "## Step 4: rewrite the program to use the function\n",
    "\n",
    "Finally re-write the original program, with a twist. Follow this algorithm\n",
    "\n",
    "```\n",
    "loop\n",
    "    input a grade or type 'quit', save in variable text\n",
    "    if text equals 'quit'\n",
    "        break from the loop\n",
    "    convert the text to an integer, store in the variable number\n",
    "    call the GetGrade function with the number as input, store the output in letter grade\n",
    "    print the letter grade\n",
    "```"
   ]
  },
  {
   "cell_type": "code",
   "execution_count": 3,
   "metadata": {},
   "outputs": [
    {
     "name": "stdout",
     "output_type": "stream",
     "text": [
      "----------------------------------------\n",
      "IST256 Grade Calculator\n",
      "----------------------------------------\n",
      "Enter a numerical points earned and get letter grade.\n",
      "----------------------------------------\n",
      "Input points or type 'quit' to exit: 45\n",
      "----------------------------------------\n",
      "45.0 points will results in a letter grade of F.\n",
      "----------------------------------------\n",
      "Input points or type 'quit' to exit: 601\n",
      "----------------------------------------\n",
      "Error 10002: Bonus Point Alert. A student can not earn more than 600 points.\n",
      "----------------------------------------\n",
      "Input points or type 'quit' to exit: 600\n",
      "----------------------------------------\n",
      "600.0 points will results in a letter grade of A.\n",
      "----------------------------------------\n",
      "Input points or type 'quit' to exit: qyit\n",
      "----------------------------------------\n",
      "Error 10001: Invalid Entry. You did not enter a number. Please ensure you are entering a numerical value or 'quit' to end the program.\n",
      "----------------------------------------\n",
      "Input points or type 'quit' to exit: fhkjh\n",
      "----------------------------------------\n",
      "Error 10001: Invalid Entry. You did not enter a number. Please ensure you are entering a numerical value or 'quit' to end the program.\n",
      "----------------------------------------\n",
      "Input points or type 'quit' to exit: -10\n",
      "----------------------------------------\n",
      "Error 10003: Negative Number Entered.\n",
      "----------------------------------------\n",
      "Input points or type 'quit' to exit: quit\n",
      "----------------------------------------\n",
      "Thank you for using Grade Calculator. Goodbye.\n",
      "----------------------------------------\n"
     ]
    }
   ],
   "source": [
    "## Step 4: Write program here from the algorithm above\n",
    "def GetGrade(points): #enter function in code\n",
    "    if points >= 570:\n",
    "        grade = \"A\"\n",
    "    elif points >= 540:\n",
    "        grade = \"A-\"\n",
    "    elif points >= 510:\n",
    "        grade = \"B+\"\n",
    "    elif points >= 480:\n",
    "        grade = \"B\"\n",
    "    elif points >= 450:\n",
    "        grade = \"B-\"\n",
    "    elif points >= 420:\n",
    "        grade = \"C+\"\n",
    "    elif points >= 390:\n",
    "        grade = \"C\"\n",
    "    elif points >= 360:\n",
    "        grade = \"C-\"\n",
    "    elif points >= 300:\n",
    "        grade = \"D\"\n",
    "    else:\n",
    "        grade = \"F\"\n",
    "    return grade\n",
    "\n",
    "print(\"-\" * 40)\n",
    "print(\"IST256 Grade Calculator\")\n",
    "print(\"-\" * 40)\n",
    "print(\"Enter a numerical points earned and get letter grade.\")\n",
    "print(\"-\" * 40)\n",
    "\n",
    "while True:\n",
    "    \n",
    "    points = input(\"Input points or type 'quit' to exit: \")\n",
    "    \n",
    "    if points == 'quit':\n",
    "        print(\"-\" * 40)\n",
    "        print(\"Thank you for using Grade Calculator. Goodbye.\")\n",
    "        print(\"-\" * 40)\n",
    "        break\n",
    "        \n",
    "    else:\n",
    "        try:\n",
    "            points = float(points) \n",
    "            \n",
    "            if points in range (0, 601):\n",
    "                \n",
    "                final_grade = GetGrade(points)\n",
    "                \n",
    "                print(\"-\" * 40)\n",
    "                print(points, \"points will results in a letter grade of\", final_grade, end=\".\\n\")\n",
    "                print(\"-\" * 40)\n",
    "            \n",
    "            elif points < 0:\n",
    "                print(\"-\" * 40)\n",
    "                print(\"Error 10003: Negative Number Entered.\")\n",
    "                print(\"-\" * 40)\n",
    "        \n",
    "            elif points > 600:\n",
    "                print(\"-\" * 40)\n",
    "                print(\"Error 10002: Bonus Point Alert. A student can not earn more than 600 points.\")\n",
    "                print(\"-\" * 40)\n",
    "\n",
    "        except ValueError:\n",
    "            print(\"-\" * 40)\n",
    "            print(\"Error 10001: Invalid Entry. You did not enter a number. Please ensure you are entering a numerical value or 'quit' to end the program.\")\n",
    "            print(\"-\" * 40)"
   ]
  },
  {
   "cell_type": "markdown",
   "metadata": {},
   "source": [
    "## Step 6: Questions\n",
    "\n",
    "1. Provide 3 advantages for programming a user function in your code like `GetGrade` \n",
    "2. If we want to guarantee our `GetGrade` function is 100% accurate, what is the minimum number of test cases must we provide in step 3?\n",
    "3. How many times is the `GetGrade` function called in the sample run provided? How many times was it called in step 3?\n"
   ]
  },
  {
   "cell_type": "markdown",
   "metadata": {},
   "source": [
    "## Reminder of Evaluation Criteria\n",
    "\n",
    "1. What the problem attempted (analysis, code, and answered questions) ?\n",
    "2. What the problem analysis thought out? (does the program match the plan?)\n",
    "3. Does the code execute without syntax error?\n",
    "4. Does the code solve the intended problem?\n",
    "5. Is the code well written? (easy to understand, modular, and self-documenting, handles errors)\n"
   ]
  },
  {
   "cell_type": "code",
   "execution_count": null,
   "metadata": {
    "collapsed": true
   },
   "outputs": [],
   "source": []
  }
 ],
 "metadata": {
  "anaconda-cloud": {},
  "kernelspec": {
   "display_name": "Python 3",
   "language": "python",
   "name": "python3"
  },
  "language_info": {
   "codemirror_mode": {
    "name": "ipython",
    "version": 3
   },
   "file_extension": ".py",
   "mimetype": "text/x-python",
   "name": "python",
   "nbconvert_exporter": "python",
   "pygments_lexer": "ipython3",
   "version": "3.6.3"
  }
 },
 "nbformat": 4,
 "nbformat_minor": 1
}
