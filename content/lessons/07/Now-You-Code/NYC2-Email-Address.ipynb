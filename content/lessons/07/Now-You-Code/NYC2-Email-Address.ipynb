{
 "cells": [
  {
   "cell_type": "markdown",
   "metadata": {},
   "source": [
    "# Now You Code 2: Is That An Email Address?\n",
    "\n",
    "Let's use Python's built-in string functions to write our own function to detect if a string is an email address. \n",
    "\n",
    "The function `isEmail(text)` should return `True` when `text` is an email address, `False` otherwise.  \n",
    "\n",
    "For simplicity's sake we will define an email address to be any string with just ONE `@` symbol in it, where the `@` is not at the beginning or end of the string. So `a@b` is considered an email (even though it really isn't).\n",
    "\n",
    "The program should detect emails until you enter quit. \n",
    "\n",
    "Sample run:\n",
    "```\n",
    "Email address detector. Type quit to exit. \n",
    "Email: mafudge@syr.edu\n",
    "mafudge@syr.edu ==> email\n",
    "Email: mafudge@\n",
    "mafudge@ ==> NOT EMAIL\n",
    "Email: mafudge\n",
    "mafudge ==> NOT EMAIL\n",
    "Email: @syr.edu\n",
    "@syr.edu ==> NOT EMAIL\n",
    "Email: @\n",
    "@ ==> NOT EMAIL\n",
    "Email: mafudge@@syr.edu\n",
    "mafudge@@syr.edu ==> NOT EMAIL\n",
    "Email: mafudge@syr@edu\n",
    "mafudge@syr@edu ==> NOT EMAIL\n",
    "```\n",
    "\n",
    "Once again we will use the problem simplification technique to writing this program.\n",
    "\n",
    "First we will write the `isEmail(text)` function, then we will write the main program.\n"
   ]
  },
  {
   "cell_type": "markdown",
   "metadata": {},
   "source": [
    "## Step 1: Problem Analysis for isEmail function only\n",
    "\n",
    "Inputs (function arguments):\n",
    "\n",
    "* text value for the email address \n",
    "\n",
    "Outputs (what is returns): \n",
    "\n",
    "* True or False based on the functions results Algorithm \n",
    "\n",
    "\n",
    "Algorithm (Steps in Function):\n",
    "\n",
    "* definition statement for isEmail for the argument text.\n",
    "    * determine the location of '@'. using .find function \n",
    "    * if statement addressing '@' at start, end, or  -1 \n",
    "        * return statement of false not an email address\n",
    "    * else statement for all other scenarios \n",
    "        * return statement of true because this would be a email address\n"
   ]
  },
  {
   "cell_type": "code",
   "execution_count": 5,
   "metadata": {},
   "outputs": [],
   "source": [
    "## Step 2: Todo write the function definition for isEmail function\n",
    "\n",
    "def isEmail(text):\n",
    "    position = text.find('@')\n",
    "    if text.startswith('@') or text.endswith('@') or position == -1: \n",
    "        return False\n",
    "    else:\n",
    "        return True"
   ]
  },
  {
   "cell_type": "code",
   "execution_count": 6,
   "metadata": {},
   "outputs": [
    {
     "name": "stdout",
     "output_type": "stream",
     "text": [
      "WHEN text=mike@syr.edu We EXPECT isEmail(text) to return True ACTUAL True\n",
      "WHEN text=mike@ We EXPECT isEmail(text) to return False ACTUAL False\n"
     ]
    }
   ],
   "source": [
    "## Step 3: Write some tests, to ensure the function works, for example\n",
    "## Make sure to test all cases!\n",
    "print(\"WHEN text=mike@syr.edu We EXPECT isEmail(text) to return True\", \"ACTUAL\", isEmail(\"mike@syr.edu\") )\n",
    "print(\"WHEN text=mike@ We EXPECT isEmail(text) to return False\", \"ACTUAL\", isEmail(\"mike@\") )\n"
   ]
  },
  {
   "cell_type": "markdown",
   "metadata": {},
   "source": [
    "## Step 4: Problem Analysis for full Program\n",
    "\n",
    "Inputs:\n",
    "\n",
    "* email string\n",
    "\n",
    "Outputs:\n",
    "\n",
    "* exit statement when 'quit'is entered\n",
    "* not a valid email address if function isEmail returns False\n",
    "* valid email address function isEmail returns True\n",
    "\n",
    "Algorithm (Steps in Program):\n",
    "\n",
    "- definition statement for isEmail \n",
    "\n",
    "- print statement with program title Email Address Detector\n",
    "- print statement about the program\n",
    "\n",
    "- while True statement to start our loop\n",
    "    - input statement for variable text used as the argument when the function is called\n",
    "\n",
    "    - if statement to capture any form of 'quit' using x.lower() == 'quit'\n",
    "        - print exit statement \n",
    "        - break statement to end the code\n",
    "\n",
    "    - else statement if any other string entered\n",
    "        - assign variable email_status calling function isEmail(text) either True or False\n",
    "\n",
    "        - if statement for email_status variable being == True:\n",
    "            - print statement indicating valid email address\n",
    "        - if stattment for email_status variable being == False:\n",
    "            - print statement indicating not a valid email address"
   ]
  },
  {
   "cell_type": "code",
   "execution_count": 1,
   "metadata": {},
   "outputs": [
    {
     "name": "stdout",
     "output_type": "stream",
     "text": [
      "Email Address Detector\n",
      "This program allow you to determine a valid email. Enter 'quit' to end program.\n",
      "Enter email address or 'quit': a@b\n",
      "a@b ==> Valid Email Address\n",
      "Enter email address or 'quit': aa@b@b\n",
      "aa@b@b ==> NOT A Valid Email Address\n",
      "Enter email address or 'quit': aaa\n",
      "aaa ==> NOT A Valid Email Address\n",
      "Enter email address or 'quit': @aa\n",
      "@aa ==> NOT A Valid Email Address\n",
      "Enter email address or 'quit': aa@\n",
      "aa@ ==> NOT A Valid Email Address\n",
      "Enter email address or 'quit': quit\n",
      "Thank you for using Email Address Detector. Goodbye.\n"
     ]
    }
   ],
   "source": [
    "## Step 5: todo write code for full problem, using the isEmail function to help you solve the problem\n",
    "\n",
    "def isEmail(text):\n",
    "    if text.startswith('@') or text.endswith('@') or text.count('@') != 1: \n",
    "        return False\n",
    "    else:\n",
    "        return True\n",
    "\n",
    "print(\"Email Address Detector\")\n",
    "print(\"This program allow you to determine a valid email. Enter 'quit' to end program.\")\n",
    "while True:\n",
    "    text = input(\"Enter email address or 'quit': \")\n",
    "    \n",
    "    if text.lower() == 'quit':\n",
    "        print(\"Thank you for using Email Address Detector. Goodbye.\")\n",
    "        break\n",
    "    \n",
    "    else:\n",
    "        email_status = isEmail(text)\n",
    "    \n",
    "        if email_status == True:\n",
    "            print(text,\"==> Valid Email Address\")\n",
    "        if email_status == False:\n",
    "            print(text,\"==> NOT A Valid Email Address\")\n"
   ]
  },
  {
   "cell_type": "markdown",
   "metadata": {},
   "source": [
    "## Step 6: Questions\n",
    "\n",
    "1. How many test cases should you have in step 3 to ensure you've tested all the cases?\n",
    "\n",
    "* At least 9 tests as follows: \n",
    "    * No '@', aka random text\n",
    "    * '@' at the beginning\n",
    "    * '@' at the end\n",
    "    * multiple '@'s not at the beginning or end\n",
    "    * case with '@' at the beginning and mid-text\n",
    "    * case with the '@' at the beinning and mid-text\n",
    "    * capitalized 'quit'\n",
    "    * lowercase 'quit'\n",
    "    * 'quit' with a capitol 'q\n",
    "    \n",
    "2. What should kind of logic should we add to make our `isEmail` function even better, so that is detects emails more accurately?\n",
    "\n",
    "    * When the count for '@' is more than 1 which would indicate an invalid email address. It shuld count characters after the last '.'. If it is not == 2 or 3, it is most likely not a valid email address (co, com, edu, etc.) or even set those up in a global variable list to have the function call that list and if the characters after the last '.' are not in the list it is not a valid email address."
   ]
  },
  {
   "cell_type": "markdown",
   "metadata": {},
   "source": [
    "## Reminder of Evaluation Criteria\n",
    "\n",
    "1. What the problem attempted (analysis, code, and answered questions) ?\n",
    "2. What the problem analysis thought out? (does the program match the plan?)\n",
    "3. Does the code execute without syntax error?\n",
    "4. Does the code solve the intended problem?\n",
    "5. Is the code well written? (easy to understand, modular, and self-documenting, handles errors)\n"
   ]
  },
  {
   "cell_type": "code",
   "execution_count": null,
   "metadata": {
    "collapsed": true
   },
   "outputs": [],
   "source": []
  }
 ],
 "metadata": {
  "anaconda-cloud": {},
  "kernelspec": {
   "display_name": "Python 3",
   "language": "python",
   "name": "python3"
  },
  "language_info": {
   "codemirror_mode": {
    "name": "ipython",
    "version": 3
   },
   "file_extension": ".py",
   "mimetype": "text/x-python",
   "name": "python",
   "nbconvert_exporter": "python",
   "pygments_lexer": "ipython3",
   "version": "3.6.3"
  }
 },
 "nbformat": 4,
 "nbformat_minor": 1
}
